{
  "nbformat": 4,
  "nbformat_minor": 0,
  "metadata": {
    "colab": {
      "provenance": [],
      "collapsed_sections": [],
      "toc_visible": true,
      "include_colab_link": true
    },
    "kernelspec": {
      "name": "javascript",
      "display_name": "Javascript"
    },
    "accelerator": "GPU"
  },
  "cells": [
    {
      "cell_type": "markdown",
      "metadata": {
        "id": "view-in-github",
        "colab_type": "text"
      },
      "source": [
        "<a href=\"https://colab.research.google.com/github/pivilartisant/Javascript101-fr/blob/main/javascript101_fr_public_v_1_0_2.ipynb\" target=\"_parent\"><img src=\"https://colab.research.google.com/assets/colab-badge.svg\" alt=\"Open In Colab\"/></a>"
      ]
    },
    {
      "cell_type": "markdown",
      "source": [
        "# NOTE D'INTENTION A LIRE"
      ],
      "metadata": {
        "id": "Lc5cX2Qkan7_"
      }
    },
    {
      "cell_type": "markdown",
      "source": [
        "Ce document est à destination de toutes et tous souhaitant apprendre ou revoir leurs connaissances en javascript. \n",
        "\n",
        "Il est le fruit d'une combinaison de différente sources présentées ci-dessous. \n",
        "\n",
        "Ce docuement est copiable, modifiable, partageable à souhait. De ce fait, je ne peux que vous encourager à en disposer comme bon vous semble. \n",
        "\n",
        "TOUTEFOIS, si vous voulez contribuer à son amélioration/correction n'hésitez pas à ajouter votre contribution ainsi qu'un initial entre parenthèse comme : (aeon98). Sinon vous pouvez également envoyer un issue via github qui sera traité dans les meilleurs délais \n",
        "\n",
        "Si jamais vous apercevez dans ce docuement entre entrée hors propos/insulte/incitation à la haine je vous invite à le supprimer. \n",
        "\n",
        "Bonne lecture ! \n",
        "\n",
        "                                                  - pivi\n",
        "\n",
        "Sources: \n",
        "- Eloquent JavaScript, 3rd Edition: A Modern Introduction to Programming, Marijn Haverbeke\n",
        "- https://javascript.info/\n",
        "- https://developer.mozilla.org/en-US/docs/Learn/JavaScript\n",
        "- https://www.freecodecamp.org/\n"
      ],
      "metadata": {
        "id": "Fw8PxZ3jask5"
      }
    },
    {
      "cell_type": "markdown",
      "source": [
        "# Arrays "
      ],
      "metadata": {
        "id": "4qJSJY0kkxKY"
      }
    },
    {
      "cell_type": "markdown",
      "source": [
        "L'objet global ***Array*** est utilisé pour créer des tableaux. Les tableaux sont des objets de haut-niveau (en termes de complexité homme-machine) semblables à des listes.\n",
        "\n",
        "Une ***array*** est construite de la manièrez suivante : "
      ],
      "metadata": {
        "id": "3ViHBIlGCQA4"
      }
    },
    {
      "cell_type": "code",
      "source": [
        "let fruits = ['Apple', 'Banana'];\n",
        "\n",
        "console.log(fruits.length);\n",
        "// 2\n"
      ],
      "metadata": {
        "id": "WnDLPrf4Cf_M"
      },
      "execution_count": null,
      "outputs": []
    },
    {
      "cell_type": "markdown",
      "source": [
        "Voici comment nous accèdons aux données à l'intérieur de notre ***array*** : \n"
      ],
      "metadata": {
        "id": "Tl9_LdxrCie8"
      }
    },
    {
      "cell_type": "code",
      "source": [
        "let first = fruits[0];\n",
        "// Apple\n",
        "\n",
        "let last = fruits[fruits.length - 1];\n",
        "// Banana\n"
      ],
      "metadata": {
        "id": "VxUgMDbHCnd_"
      },
      "execution_count": null,
      "outputs": []
    },
    {
      "cell_type": "code",
      "source": [
        "let arr = [\"le premier élément\", \"le deuxième élément\", \"le dernier élément\"];\n",
        "console.log(arr[0]);             // affiche \"le premier élément\"\n",
        "console.log(arr[1]);             // affiche \"le deuxième élément\"\n",
        "console.log(arr[arr.length - 1]);// affiche \"le dernier élément\"\n"
      ],
      "metadata": {
        "id": "nirX0V6BDhBf"
      },
      "execution_count": null,
      "outputs": []
    },
    {
      "cell_type": "code",
      "source": [
        "let années = [1950, 1960, 1970, 1980, 1990, 2000, 2010];\n",
        "\n",
        "console.log(années.0);  // erreur de syntaxe\n",
        "console.log(années[0]); // fonctionne correctement\n"
      ],
      "metadata": {
        "id": "SXvqA6DyDos3"
      },
      "execution_count": null,
      "outputs": []
    },
    {
      "cell_type": "markdown",
      "source": [
        "Créer une boucle qui affiche tout ses contenants :"
      ],
      "metadata": {
        "id": "mgBIbuYhCtUs"
      }
    },
    {
      "cell_type": "code",
      "source": [
        "fruits.forEach(function(item, index, array) {\n",
        "  console.log(item, index);\n",
        "});\n",
        "// Apple 0\n",
        "// Banana 1\n"
      ],
      "metadata": {
        "id": "Mo1TW8EECwVv"
      },
      "execution_count": null,
      "outputs": []
    },
    {
      "cell_type": "markdown",
      "source": [
        "**Les méthodes communément utilisées sur les array**"
      ],
      "metadata": {
        "id": "NMiTWdSBC1iT"
      }
    },
    {
      "cell_type": "code",
      "source": [
        "let newLength = fruits.push('Orange'); //ajoute à la dernière place\n",
        "// [\"Apple\", \"Banana\", \"Orange\"]\n",
        "\n",
        "let last = fruits.pop(); // supprime Orange (à la fin)\n",
        "// [\"Apple\", \"Banana\"];\n",
        "\n",
        "let first = fruits.shift(); // supprime Apple (au début)\n",
        "// [\"Banana\"];\n",
        "\n",
        "let newLength = fruits.unshift('Strawberry') // ajoute au début\n",
        "// [\"Strawberry\", \"Banana\"];\n",
        "\n",
        "let removedItem = fruits.splice(pos, 1); // supprime 1 élément à la position pos\n",
        "\n",
        "// [\"Strawberry\", \"Mango\"]\n",
        "\n"
      ],
      "metadata": {
        "id": "WAWDxjQ7DBEF"
      },
      "execution_count": null,
      "outputs": []
    },
    {
      "cell_type": "markdown",
      "source": [
        "# Javascript asynchrone (async)"
      ],
      "metadata": {
        "id": "E98LuYRza4uR"
      }
    },
    {
      "cell_type": "markdown",
      "source": [
        "La programmation asynchrone est une technique qui permet à votre programme de lancer une tâche potentiellement longue tout en étant capable de répondre à d'autres événements pendant l'exécution de cette tâche, plutôt que d'attendre que celle-ci soit terminée. Une fois la tâche terminée, votre programme reçoit le résultat."
      ],
      "metadata": {
        "id": "5DI1q-2qbRHm"
      }
    },
    {
      "cell_type": "markdown",
      "source": [
        "De nombreuses fonctions fournies par les navigateurs, notamment les plus intéressantes, peuvent potentiellement prendre beaucoup de temps, et sont donc asynchrones. Par exemple :\n",
        "\n",
        "  - Faire des requêtes HTTP en utilisant ***fetch()***\n",
        "  - Accéder à la caméra ou au microphone d'un utilisateur avec ***getUserMedia()***\n",
        "  - Demander à un utilisateur de sélectionner des fichiers en utilisant ***showOpenFilePicker()***"
      ],
      "metadata": {
        "id": "WC4mc-kIbhv_"
      }
    },
    {
      "cell_type": "markdown",
      "source": [
        "**Synchronous programming**"
      ],
      "metadata": {
        "id": "48KsSa_QbwRP"
      }
    },
    {
      "cell_type": "code",
      "source": [
        "const name = 'Miriam';\n",
        "const greeting = `Hello, my name is ${name}!`;\n",
        "console.log(greeting);\n",
        "// \"Hello, my name is Miriam!\"\n"
      ],
      "metadata": {
        "id": "z0DKFde_cBiu"
      },
      "execution_count": null,
      "outputs": []
    },
    {
      "cell_type": "markdown",
      "source": [
        "Ce code :\n",
        "\n",
        "  - Déclare une chaîne appelée ***name***.\n",
        "  - Déclare une autre chaîne appelée ***greeting***, qui utilise ***name***.\n",
        "  - envoie le message de ***greeting*** à la console JavaScript.\n",
        "\n",
        "Il convient de noter ici que le navigateur parcourt effectivement le programme ligne par ligne, dans l'ordre où nous l'avons écrit. À chaque point, le navigateur attend que la ligne ait terminé son travail avant de passer à la ligne suivante. Il doit le faire parce que chaque ligne dépend du travail effectué dans les lignes précédentes.\n",
        "\n",
        "Cela fait de ce programme un programme synchrone. Il serait toujours synchrone même si nous appelions une fonction séparée, comme ceci :\n"
      ],
      "metadata": {
        "id": "PWJwLyoJbyCg"
      }
    },
    {
      "cell_type": "code",
      "source": [
        "function makeGreeting(name) {\n",
        "  return `Hello, my name is ${name}!`;\n",
        "}\n",
        "\n",
        "const name = 'Miriam';\n",
        "const greeting = makeGreeting(name);\n",
        "console.log(greeting);\n",
        "// \"Hello, my name is Miriam!\"\n"
      ],
      "metadata": {
        "id": "3-T9UjEEcOtS"
      },
      "execution_count": null,
      "outputs": []
    },
    {
      "cell_type": "markdown",
      "source": [
        "**Une fonction synchrone à longue durée de vie**"
      ],
      "metadata": {
        "id": "l-jxKL1icS0F"
      }
    },
    {
      "cell_type": "markdown",
      "source": [
        "Que faire si la fonction synchrone prend beaucoup de temps ?\n",
        "\n",
        "Le programme ci-dessous utilise un algorithme très inefficace pour générer plusieurs grands nombres premiers lorsqu'un utilisateur clique sur le bouton \"Générer des nombres premiers\". Plus le nombre de nombres premiers spécifié par l'utilisateur est élevé, plus l'opération sera longue."
      ],
      "metadata": {
        "id": "MCUHB-4kcmi8"
      }
    },
    {
      "cell_type": "code",
      "source": [
        "<label for=\"quota\">Number of primes:</label>\n",
        "<input type=\"text\" id=\"quota\" name=\"quota\" value=\"1000000\" />\n",
        "\n",
        "<button id=\"generate\">Generate primes</button>\n",
        "<button id=\"reload\">Reload</button>\n",
        "\n",
        "<div id=\"output\"></div>\n"
      ],
      "metadata": {
        "id": "6XQNaUcRcoen"
      },
      "execution_count": null,
      "outputs": []
    },
    {
      "cell_type": "code",
      "source": [
        "const MAX_PRIME = 1000000;\n",
        "\n",
        "function isPrime(n) {\n",
        "  for (let i = 2; i <= Math.sqrt(n); i++) {\n",
        "    if (n % i === 0) {\n",
        "      return false;\n",
        "    }\n",
        "  }\n",
        "  return n > 1;\n",
        "}\n",
        "\n",
        "const random = (max) => Math.floor(Math.random() * max);\n",
        "\n",
        "function generatePrimes(quota) {\n",
        "  const primes = [];\n",
        "  while (primes.length < quota) {\n",
        "    const candidate = random(MAX_PRIME);\n",
        "    if (isPrime(candidate)) {\n",
        "      primes.push(candidate);\n",
        "    }\n",
        "  }\n",
        "  return primes;\n",
        "}\n",
        "\n",
        "const quota = document.querySelector('#quota');\n",
        "const output = document.querySelector('#output');\n",
        "\n",
        "document.querySelector('#generate').addEventListener('click', () => {\n",
        "  const primes = generatePrimes(quota.value);\n",
        "  output.textContent = `Finished generating ${quota.value} primes!`;\n",
        "});\n",
        "\n",
        "document.querySelector('#reload').addEventListener('click', () => {\n",
        "  document.location.reload();\n",
        "});\n"
      ],
      "metadata": {
        "id": "brnRYUO_cr18"
      },
      "execution_count": null,
      "outputs": []
    },
    {
      "cell_type": "markdown",
      "source": [
        "Vous constaterez que pendant l'exécution de la fonction ***generatePrimes()***, notre programme ne répond pas du tout : vous ne pouvez rien taper, ni cliquer, ni faire quoi que ce soit d'autre."
      ],
      "metadata": {
        "id": "YKoCBlTZc3X1"
      }
    },
    {
      "cell_type": "markdown",
      "source": [
        "C'est le problème de base des fonctions synchrones à longue durée d'exécution. Ce dont nous avons besoin est un moyen pour notre programme de :\n",
        "\n",
        "  - de démarrer une opération longue en appelant une fonction.\n",
        "  - Que cette fonction démarre l'opération et revienne immédiatement, afin que notre programme puisse toujours répondre à d'autres événements.\n",
        "  - Nous notifier le résultat de l'opération lorsqu'elle se termine.\n",
        "\n",
        "Pour en savoir plus, consultez la section Promesses de ce guide. \n",
        "\n"
      ],
      "metadata": {
        "id": "6jG8vftcc_nw"
      }
    },
    {
      "cell_type": "markdown",
      "source": [
        "**Async et Await**"
      ],
      "metadata": {
        "id": "b8l4hKl54dVD"
      }
    },
    {
      "cell_type": "markdown",
      "source": [
        "***async*** et ***await***\n",
        "\n",
        "Le mot-clé ***async*** vous offre un moyen plus simple de travailler avec du code asynchrone basé sur des promesses. Ajouter ***async*** au début d'une fonction en fait une fonction asynchrone :"
      ],
      "metadata": {
        "id": "mLUOUgT94hpr"
      }
    },
    {
      "cell_type": "code",
      "source": [
        "async function myFunction() {\n",
        "  // This is an async function\n",
        "}\n"
      ],
      "metadata": {
        "id": "nBo_u14D4kcB"
      },
      "execution_count": null,
      "outputs": []
    },
    {
      "cell_type": "markdown",
      "source": [
        "À l'intérieur d'une fonction asynchrone, vous pouvez utiliser le mot-clé ***await*** avant un appel à une fonction qui renvoie une promesse. Cela fait attendre le code à ce moment-là jusqu'à ce que la promesse soit réglée, et à ce moment-là la valeur remplie de la promesse est traitée comme une valeur de retour, ou la valeur rejetée est lancée.\n",
        "\n",
        "Cela vous permet d'écrire du code qui utilise des fonctions asynchrones mais qui ressemble à du code synchrone. Par exemple, nous pourrions l'utiliser pour réécrire notre exemple de ***fetch*** :\n"
      ],
      "metadata": {
        "id": "t7I86iQz4mHE"
      }
    },
    {
      "cell_type": "code",
      "source": [
        "async function fetchProducts() {\n",
        "  try {\n",
        "    // after this line, our function will wait for the `fetch()` call to be settled\n",
        "    // the `fetch()` call will either return a Response or throw an error\n",
        "    const response = await fetch('https://mdn.github.io/learning-area/javascript/apis/fetching-data/can-store/products.json');\n",
        "    if (!response.ok) {\n",
        "      throw new Error(`HTTP error: ${response.status}`);\n",
        "    }\n",
        "    // after this line, our function will wait for the `response.json()` call to be settled\n",
        "    // the `response.json()` call will either return the parsed JSON object or throw an error\n",
        "    const data = await response.json();\n",
        "    console.log(data[0].name);\n",
        "  }\n",
        "  catch (error) {\n",
        "    console.error(`Could not get products: ${error}`);\n",
        "  }\n",
        "}\n",
        "\n",
        "fetchProducts();\n"
      ],
      "metadata": {
        "id": "MkMKqL034v3E"
      },
      "execution_count": null,
      "outputs": []
    },
    {
      "cell_type": "markdown",
      "source": [
        "Ici, nous appelons ***await fetch()***, et au lieu de recevoir une ***Promise***, notre appelant reçoit un objet ***Response*** complet, comme si ***fetch()*** était une fonction synchrone !\n",
        "\n",
        "Nous pouvons même utiliser un bloc*** try...catch*** pour la gestion des erreurs, exactement comme nous le ferions si le code était synchrone."
      ],
      "metadata": {
        "id": "ph17_G775IFN"
      }
    },
    {
      "cell_type": "markdown",
      "source": [
        "Notez cependant que les fonctions asynchrones retournent toujours une promesse, donc vous ne pouvez pas faire quelque chose comme :"
      ],
      "metadata": {
        "id": "LX8rjpZU5ayL"
      }
    },
    {
      "cell_type": "code",
      "source": [
        "async function fetchProducts() {\n",
        "  try {\n",
        "    const response = await fetch('https://mdn.github.io/learning-area/javascript/apis/fetching-data/can-store/products.json');\n",
        "    if (!response.ok) {\n",
        "      throw new Error(`HTTP error: ${response.status}`);\n",
        "    }\n",
        "    const data = await response.json();\n",
        "    return data;\n",
        "  }\n",
        "  catch (error) {\n",
        "    console.error(`Could not get products: ${error}`);\n",
        "  }\n",
        "}\n",
        "\n",
        "const promise = fetchProducts();\n",
        "console.log(promise[0].name);   // \"promise\" is a Promise object, so this will not work"
      ],
      "metadata": {
        "id": "mOTI49fn5b12"
      },
      "execution_count": null,
      "outputs": []
    },
    {
      "cell_type": "markdown",
      "source": [
        "Au lieu de cela, vous devrez faire quelque chose comme :"
      ],
      "metadata": {
        "id": "DkdXxg9Y5e4I"
      }
    },
    {
      "cell_type": "code",
      "source": [
        "async function fetchProducts() {\n",
        "  try {\n",
        "    const response = await fetch('https://mdn.github.io/learning-area/javascript/apis/fetching-data/can-store/products.json');\n",
        "    if (!response.ok) {\n",
        "      throw new Error(`HTTP error: ${response.status}`);\n",
        "    }\n",
        "    const data = await response.json();\n",
        "    return data;\n",
        "  }\n",
        "  catch (error) {\n",
        "    console.error(`Could not get products: ${error}`);\n",
        "  }\n",
        "}\n",
        "\n",
        "const promise = fetchProducts();\n",
        "promise.then((data) => console.log(data[0].name));\n"
      ],
      "metadata": {
        "id": "YIyELXRw5g_T"
      },
      "execution_count": null,
      "outputs": []
    },
    {
      "cell_type": "markdown",
      "source": [
        "# Classes"
      ],
      "metadata": {
        "id": "yY1gnglXgjmN"
      }
    },
    {
      "cell_type": "markdown",
      "source": [
        "Les classes sont des morceaux de code représentant une structure réutilisable. Elles sont déclarées à l'aide du mot-clé \"***class***\". Les classes sont utilisées en conjonction avec les constructeurs. Les constructeurs sont utilisés en combinaison avec des arguments notés entre parenthèses (ce seront les arguments de nos objets). Ces arguments deviendront ensuite les paramètres de nos propriétés d'objet.\n",
        "\n",
        "\n"
      ],
      "metadata": {
        "id": "LlkDJE99gjRX"
      }
    },
    {
      "cell_type": "code",
      "source": [
        "class Book {\n",
        "    constructor(title, author, pages) {\n",
        "    }\n",
        "}"
      ],
      "metadata": {
        "id": "I8i5-QM1givz"
      },
      "execution_count": null,
      "outputs": []
    },
    {
      "cell_type": "markdown",
      "source": [
        "OU"
      ],
      "metadata": {
        "id": "T4UczS81mrg7"
      }
    },
    {
      "cell_type": "code",
      "source": [
        "class Person {\n",
        "\n",
        "  name;\n",
        "\n",
        "  constructor(name) {\n",
        "    this.name = name;\n",
        "  }\n",
        "  introduceSelf() {\n",
        "    console.log(`Hi! I'm ${this.name}`);\n",
        "  }\n",
        "\n",
        "}"
      ],
      "metadata": {
        "id": "Ou7dbEB1msQG"
      },
      "execution_count": null,
      "outputs": []
    },
    {
      "cell_type": "markdown",
      "source": [
        "note : La déclaration ***name*** ; est facultative : vous pourriez l'omettre, et la ligne ***this.name = name*** ; dans le constructeur créera la propriété ***name*** avant de l'initialiser. Cependant, en listant explicitement les propriétés dans la déclaration de la classe, les personnes qui lisent votre code peuvent voir plus facilement quelles propriétés font partie de cette classe."
      ],
      "metadata": {
        "id": "EUq4mlfvnivT"
      }
    },
    {
      "cell_type": "markdown",
      "source": [
        "L'exemple précédent déclare une classe appelée ***Person***, avec :\n",
        "\n",
        "- une propriété ***name***.\n",
        "\n",
        "- un constructeur qui prend un paramètre ***name*** qui est utilisé pour initialiser la propriété ***name*** du nouvel objet\n",
        "\n",
        "- une méthode ***introduceSelf()*** qui permet de faire référence aux propriétés de l'objet en utilisant this. NOTE : il est possible de chaîner des méthodes si ***return this ***est ajouté à l'ebd de notre méthode.\n",
        "\n"
      ],
      "metadata": {
        "id": "nYXdDGgXm2z-"
      }
    },
    {
      "cell_type": "markdown",
      "source": [
        "note : pour associter des données, vous devez utiliser la notation ***this.*** (vue dans la section des objets) en conjonction avec vos clés de données correspondantes comme telles : "
      ],
      "metadata": {
        "id": "GfPtnZt4jcwk"
      }
    },
    {
      "cell_type": "code",
      "source": [
        "class Episode {\n",
        "  constructor(title, duration, hasBeenWatched) {\n",
        "    this.title = title;\n",
        "    this.duration = duration;\n",
        "    this.hasBeenWatched = hasBeenWatched;\n",
        "  }\n",
        "};"
      ],
      "metadata": {
        "id": "zjt59tzvkBlc"
      },
      "execution_count": null,
      "outputs": []
    },
    {
      "cell_type": "markdown",
      "source": [
        "Le constructeur est défini à l'aide du mot-clé ***constructor***. Tout comme un constructeur en dehors d'une définition de classe, il va :\n",
        "\n",
        "  - créer un nouvel objet\n",
        "  - lier ceci au nouvel objet, afin que vous puissiez vous y référer dans votre code constructeur\n",
        "  - exécuter le code dans le constructeur\n",
        "  - retourner le nouvel objet.\n"
      ],
      "metadata": {
        "id": "umeBaNpuntF7"
      }
    },
    {
      "cell_type": "markdown",
      "source": [
        "Avec le code de déclaration de classe ci-dessus, vous pouvez créer et utiliser une nouvelle instance de ***Person*** de la manière suivante :"
      ],
      "metadata": {
        "id": "JmJkSZsen_vl"
      }
    },
    {
      "cell_type": "code",
      "source": [
        "const giles = new Person('Giles');\n",
        "\n",
        "giles.introduceSelf(); // Hi! I'm Giles"
      ],
      "metadata": {
        "id": "qXGASwxSoA52"
      },
      "execution_count": null,
      "outputs": []
    },
    {
      "cell_type": "markdown",
      "source": [
        "OU"
      ],
      "metadata": {
        "id": "9RQinI1PoDcl"
      }
    },
    {
      "cell_type": "markdown",
      "source": [
        "Une fois la classe créée, vous pouvez créer de nouvelles instances qui deviendront ensuite des objets. "
      ],
      "metadata": {
        "id": "rM2JDrvNkWxZ"
      }
    },
    {
      "cell_type": "code",
      "source": [
        "let myBook = new Book(\"L'Histoire de Tao\", \"Will Alexander\", 250);// this is an object instance\n",
        "//Cette ligne crée l'objet suivant :\n",
        "{\n",
        "    title: \"L'Histoire de Tao\",\n",
        "    author: \"Will Alexander\",\n",
        "    pages: 250,\n",
        "}"
      ],
      "metadata": {
        "id": "N46nil6gkbOm"
      },
      "execution_count": null,
      "outputs": []
    },
    {
      "cell_type": "markdown",
      "source": [
        "Cela crée un nouvel objet appelé ***myBook*** qui se comporte alors exactement comme un objet normal. "
      ],
      "metadata": {
        "id": "TsTMRFK0koWy"
      }
    },
    {
      "cell_type": "markdown",
      "source": [
        "Notez que si vous ne créez pas de constructeur, alors le constructeur par défaut suivant sera appliqué : ***constructor() {}*** agissant comme un constructeur par défaut. \n"
      ],
      "metadata": {
        "id": "SwhXsxrInZvL"
      }
    },
    {
      "cell_type": "code",
      "source": [
        "class Animal {\n",
        "\n",
        "  sleep() {\n",
        "    console.log('zzzzzzz');\n",
        "  }\n",
        "\n",
        "}\n",
        "\n",
        "const spot = new Animal();\n",
        "\n",
        "spot.sleep(); // 'zzzzzzz'"
      ],
      "metadata": {
        "id": "htStIUlOoUTv"
      },
      "execution_count": null,
      "outputs": []
    },
    {
      "cell_type": "markdown",
      "source": [
        "**Héritage des classes**"
      ],
      "metadata": {
        "id": "KmXrhQuyoXGQ"
      }
    },
    {
      "cell_type": "markdown",
      "source": [
        "Oberservons maintenant notre classe ***Person*** ci-dessus, et définissons notre sous-classe ***Professor*** ci-dessous : "
      ],
      "metadata": {
        "id": "nFiIpmaMogFj"
      }
    },
    {
      "cell_type": "code",
      "source": [],
      "metadata": {
        "id": "NlUDtT8njfuY"
      },
      "execution_count": null,
      "outputs": []
    },
    {
      "cell_type": "code",
      "source": [
        "class Professor extends Person {\n",
        "\n",
        "  teaches;\n",
        "\n",
        "  constructor(name, teaches) {\n",
        "    super(name);\n",
        "    this.teaches = teaches;\n",
        "  }\n",
        "\n",
        "  introduceSelf() {\n",
        "    console.log(`My name is ${this.name}, and I will be your ${this.teaches} professor.`);\n",
        "  }\n",
        "\n",
        "  grade(paper) {\n",
        "    const grade = Math.floor(Math.random() * (5 - 1) + 1);\n",
        "    console.log(grade);\n",
        "  }\n",
        "\n",
        "}"
      ],
      "metadata": {
        "id": "qyJE0Ku0pdfs"
      },
      "execution_count": null,
      "outputs": []
    },
    {
      "cell_type": "markdown",
      "source": [
        "Nous utilisons le mot-clé ***extends*** pour dire que cette classe hérite d'une autre classe.\n",
        "\n",
        "La classe ***Professor*** ajoute une nouvelle propriété ***teaches***, nous la déclarons donc.\n",
        "\n",
        "Comme nous voulons définir la propriété ***teaches*** lorsqu'un nouveau professeur est créé, nous définissons un constructeur qui prend le nom et la propriété ***teaches*** comme arguments. La première chose que fait ce constructeur est d'appeler le constructeur de la superclasse en utilisant ***super()***, en passant le paramètre ***name***. Le constructeur de la superclasse se charge de définir le nom. Ensuite, le constructeur ***Professor*** définit la propriété ***teaches***."
      ],
      "metadata": {
        "id": "5Ue1_io6pxUK"
      }
    },
    {
      "cell_type": "markdown",
      "source": [
        "Nous avons également remplacé la méthode ***introduceSelf()*** de la superclasse, et ajouté une nouvelle méthode ***grade()***, pour noter un devoir (notre professeur n'est pas très bon, et attribue des notes aléatoires aux devoirs).\n",
        "\n",
        "Avec cette déclaration, nous pouvons maintenant créer et utiliser des professeurs :"
      ],
      "metadata": {
        "id": "fBpUyQmVp6bi"
      }
    },
    {
      "cell_type": "code",
      "source": [
        "const walsh = new Professor('Walsh', 'Psychology');\n",
        "walsh.introduceSelf();  // 'My name is Walsh, and I will be your Psychology professor'\n",
        "\n",
        "walsh.grade('my paper'); // some random grade"
      ],
      "metadata": {
        "id": "i0v-ZSJnp7SN"
      },
      "execution_count": null,
      "outputs": []
    },
    {
      "cell_type": "markdown",
      "source": [
        "# Déclarations conditionnelles "
      ],
      "metadata": {
        "id": "r49mCUrhUBZ_"
      }
    },
    {
      "cell_type": "markdown",
      "source": [
        "Note : tous les programmes ne s'exécutent pas de manière directe. Si ce n'est pas le cas, les programmes qui prennent des chemins différents sont appelés \"exécution conditionnelle\". Voici un bon exemple de ce qu'est une condition et dans quel format elle doit être écrite :"
      ],
      "metadata": {
        "id": "_EQdJ3b_I3DC"
      }
    },
    {
      "cell_type": "code",
      "source": [
        "function updateRecords(records, id, prop, value) {\n",
        "    if (prop !== 'tracks' && value !== \"\") {\n",
        "      records[id][prop] = value;\n",
        "    } else if (prop === \"tracks\" && records[id].hasOwnProperty(\"tracks\") === false) {\n",
        "      records[id][prop] = [value];\n",
        "    } else if (prop === \"tracks\" && value !== \"\") {\n",
        "      records[id][prop].push(value);\n",
        "    } else if (value === \"\") {\n",
        "      delete records[id][prop];\n",
        "    }\n",
        "    return records;\n",
        "  }"
      ],
      "metadata": {
        "id": "zHJMQQKU03MS"
      },
      "execution_count": null,
      "outputs": []
    },
    {
      "cell_type": "markdown",
      "source": [
        "une déclaration conditionnelle faite avec les déclarations ***\"if\"*** évalue si une déclaration est vraie, exécutant ainsi un bloc de code. Par exemple :  "
      ],
      "metadata": {
        "id": "5FnFoAmRz_HQ"
      }
    },
    {
      "cell_type": "code",
      "source": [
        "let year = prompt('In which year was ECMAScript-2015 specification published?', '');\n",
        "  if (year == 2015)\n",
        "  alert(\"yay\")"
      ],
      "metadata": {
        "id": "fHunFHOm0KjS"
      },
      "execution_count": null,
      "outputs": []
    },
    {
      "cell_type": "markdown",
      "source": [
        "Pour exécuter le code, nous pouvons l'entourer d'accolades comme suit : "
      ],
      "metadata": {
        "id": "3bIheG6G0Tri"
      }
    },
    {
      "cell_type": "code",
      "source": [
        "if (year == 2015) {\n",
        "alert( \"That's correct!\" ); alert( \"You're so smart!\" );\n",
        "}"
      ],
      "metadata": {
        "id": "6tyxWQjl0YYS"
      },
      "execution_count": null,
      "outputs": []
    },
    {
      "cell_type": "markdown",
      "source": [
        "L'instruction évalue donc ce qui se trouve entre les parenthèses et le renvoie sous forme de valeur booléenne, c'est-à-dire vrai ou faux. La condition qui est transmise peut également être prédéterminée. "
      ],
      "metadata": {
        "id": "kb5AXZ8D0klp"
      }
    },
    {
      "cell_type": "markdown",
      "source": [
        "Avec l'instruction ***\"if\"***, nous pouvons également utiliser l'instruction else qui exécute un bloc de code si la condition est fausse. "
      ],
      "metadata": {
        "id": "Q2C9oO7m1CzI"
      }
    },
    {
      "cell_type": "code",
      "source": [
        "if (condition) {\n",
        "  /* code to run if condition is true */\n",
        "} else {\n",
        "  /* run some other code instead */\n",
        "}"
      ],
      "metadata": {
        "id": "IQEqndyiz215"
      },
      "execution_count": null,
      "outputs": []
    },
    {
      "cell_type": "markdown",
      "source": [
        "Ici, nous avons : \n",
        "\n",
        "Le mot clé ***if*** suivi de quelques parenthèses. Une condition à tester, placée à l'intérieur des parenthèses (typiquement \"cette valeur est-elle plus grande que cette autre valeur ?\", ou \"cette valeur existe-t-elle ?\"). La condition utilise les opérateurs de comparaison(cf section \"opérateurs ternaires\" et renvoie vrai ou faux. en suite, il y a un ensemble d'accolades, à l'intérieur duquel se trouve du code - il peut s'agir de n'importe quel code- , qui s'exécute que si la condition renvoie vrai. \n",
        "\n",
        "Le mot-clé ***else*** suivi par un autre ensemble d'accolades contenant du code, qui lui ne s'exécute que si la condition n'est pas vraie - ou, en d'autres termes, si la condition est fausse.\n",
        "\n"
      ],
      "metadata": {
        "id": "JvIaFg95z-58"
      }
    },
    {
      "cell_type": "markdown",
      "source": [
        "Souvent, vous verrez une fonction dont les parenthèses sont suivies d'accolades {}. \n",
        "Ces accolades peuvent contenir un certain nombre de déclarations et les regroupent en une seule déclaration. On appelle cela un bloc. Il est généralement conseillé d'utiliser de telles accolades pour la lisibilité du code. \n",
        "\n"
      ],
      "metadata": {
        "id": "qxI6p97FKaje"
      }
    },
    {
      "cell_type": "code",
      "source": [
        "let year = prompt('In which year was the ECMAScript-2015 specification published?', '');\n",
        "if (year == 2015) {\n",
        "alert( 'You guessed it right!' );\n",
        "} else {\n",
        "alert( 'How can you be so wrong?' ); // any value except 2015\n",
        "}"
      ],
      "metadata": {
        "id": "Ruf6X0EG1MVV"
      },
      "execution_count": null,
      "outputs": []
    },
    {
      "cell_type": "markdown",
      "source": [
        "Il peut aussi y avoir \"plusieurs conditions\" qui sont faites par l'instruction ***\"else if\"***."
      ],
      "metadata": {
        "id": "CYiA7_xT1OF0"
      }
    },
    {
      "cell_type": "markdown",
      "source": [
        "Dans la dernière fonction, nous pouvons voir les mots clés ***\"if\" et \"else\"*** qui nous permettent de créer plusieurs chemins (conditions) pour l'exécution de notre déclaration. \n",
        "\n",
        "Dans le cas où votre programme exécute plusieurs instructions, vous pouvez \"enchaîner\" if/else avec l'instruction ***\"else if\"*** comme suit : "
      ],
      "metadata": {
        "id": "ZJtQ0wxvLFmH"
      }
    },
    {
      "cell_type": "code",
      "source": [
        "\n",
        "let num = Number(prompt(\"Pick a number\"));\n",
        "if (num < 10) { console.log(\"Small\");\n",
        "}\n",
        "else if (num < 100) {\n",
        "  console.log(\"Medium\");\n",
        "}\n",
        "else {\n",
        "  console.log(\"Large\");\n",
        "}\n"
      ],
      "metadata": {
        "id": "yunZ7rK8Ldld"
      },
      "execution_count": null,
      "outputs": []
    },
    {
      "cell_type": "markdown",
      "source": [
        "**Note : **Chaque choix supplémentaire nécessite un bloc supplémentaire à insérer entre ***if() { }*** et ***else { }***.\n",
        "\n",
        "Voici un bon exemple avec quelques manipulations ***DOM*** :"
      ],
      "metadata": {
        "id": "0XAOVL6c1gxO"
      }
    },
    {
      "cell_type": "code",
      "source": [
        "// html\n",
        "<label for=\"weather\">Select the weather type today: </label>\n",
        "<select id=\"weather\">\n",
        "  <option value=\"\">--Make a choice--</option>\n",
        "  <option value=\"sunny\">Sunny</option>\n",
        "  <option value=\"rainy\">Rainy</option>\n",
        "  <option value=\"snowing\">Snowing</option>\n",
        "  <option value=\"overcast\">Overcast</option>\n",
        "</select>\n",
        "\n",
        "<p></p>\n",
        "\n",
        "//JS\n",
        "const select = document.querySelector('select');\n",
        "const para = document.querySelector('p');\n",
        "\n",
        "select.addEventListener('change', setWeather);\n",
        "\n",
        "function setWeather() {\n",
        "  const choice = select.value;\n",
        "\n",
        "  if (choice === 'sunny') {\n",
        "    para.textContent = 'It is nice and sunny outside today. Wear shorts! Go to the beach, or the park, and get an ice cream.';\n",
        "  } else if (choice === 'rainy') {\n",
        "    para.textContent = 'Rain is falling outside; take a rain coat and an umbrella, and don\\'t stay out for too long.';\n",
        "  } else if (choice === 'snowing') {\n",
        "    para.textContent = 'The snow is coming down — it is freezing! Best to stay in with a cup of hot chocolate, or go build a snowman.';\n",
        "  } else if (choice === 'overcast') {\n",
        "    para.textContent = 'It isn\\'t raining, but the sky is grey and gloomy; it could turn any minute, so take a rain coat just in case.';\n",
        "  } else {\n",
        "    para.textContent = '';\n",
        "  }\n",
        "}"
      ],
      "metadata": {
        "id": "8C3N9Vfk1-GN"
      },
      "execution_count": null,
      "outputs": []
    },
    {
      "cell_type": "markdown",
      "source": [
        "NOTE SUR LES VALEURS BOOLEENNES\n",
        "\n",
        "**Toute valeur qui n'est pas fausse, indéfinie, nulle, 0, NaN ou une chaîne vide ('') renvoie en fait vrai** lorsqu'elle est testée en tant qu'instruction conditionnelle, et vous pouvez donc utiliser un nom de variable seul pour tester s'il est vrai, ou même s'il existe (c'est-à-dire s'il n'est pas indéfini) :"
      ],
      "metadata": {
        "id": "lUwQLhvH5NmW"
      }
    },
    {
      "cell_type": "code",
      "source": [
        "let cheese = 'Cheddar';\n",
        "\n",
        "if (cheese) {\n",
        "  console.log('Yay! Cheese available for making cheese on toast.');\n",
        "} else {\n",
        "  console.log('No cheese on toast for you today.');\n",
        "}"
      ],
      "metadata": {
        "id": "w4rE7Hjh5OkS"
      },
      "execution_count": null,
      "outputs": []
    },
    {
      "cell_type": "markdown",
      "source": [
        "Il est également possible d'imbriquer des instructions ***if... else*** à l'intérieur d'instructions ***if***. "
      ],
      "metadata": {
        "id": "aLVJrmy25hmr"
      }
    },
    {
      "cell_type": "code",
      "source": [
        "if (choice === 'sunny') {\n",
        "  if (temperature < 86) {\n",
        "    para.textContent = `It is ${temperature} degrees outside — nice and sunny. Let\\'s go out to the beach, or the park, and get an ice cream.`;\n",
        "  } else if (temperature >= 86) {\n",
        "    para.textContent = `It is ${temperature} degrees outside — REALLY HOT! If you want to go outside, make sure to put some sunscreen on.`;\n",
        "  }\n",
        "}"
      ],
      "metadata": {
        "id": "1s7qZXIX5ztZ"
      },
      "execution_count": null,
      "outputs": []
    },
    {
      "cell_type": "markdown",
      "source": [
        "Il est également possible de tester plusieurs conditions dans une seule instruction ***if else***. \n",
        "\n",
        "cf. exercice gratuit pour les camps de code sur la recherche de collections d'enregistrements. \n",
        "\n",
        "Voici un exemple de telles instructions. Comme nous pouvons le voir, elles utilisent des opérateurs spécifiques que nous pouvons trouver dans la section #operateurs du document. "
      ],
      "metadata": {
        "id": "zjG_1hdN65O_"
      }
    },
    {
      "cell_type": "code",
      "source": [
        "if (choice === 'sunny' && temperature < 86) {\n",
        "  para.textContent = `It is ${temperature} degrees outside — nice and sunny. Let\\'s go out to the beach, or the park, and get an ice cream.`;\n",
        "} else if (choice === 'sunny' && temperature >= 86) {\n",
        "  para.textContent = `It is ${temperature} degrees outside — REALLY HOT! If you want to go outside, make sure to put some sunscreen on.`;\n",
        "}"
      ],
      "metadata": {
        "id": "1Glb9BC87D-T"
      },
      "execution_count": null,
      "outputs": []
    },
    {
      "cell_type": "markdown",
      "source": [
        "# Fetch API"
      ],
      "metadata": {
        "id": "dBm4hjvm4GMG"
      }
    },
    {
      "cell_type": "markdown",
      "source": [
        "L'API **Fetch** est une interface Javascript intégrée permettant de traiter les demandes ***HTTP***. Elle remplace ***XMLHttpReques***t avec un ensemble de fonctionnalités plus puissantes et plus flexibles."
      ],
      "metadata": {
        "id": "F-cqsou48-Bp"
      }
    },
    {
      "cell_type": "markdown",
      "source": [
        "Pour effectuer une requête, vous utilisez la méthode ***fetch()***.\n",
        "\n",
        "La méthode ***fetch()*** prend un argument obligatoire, le chemin d'accès à la ressource que vous voulez récupérer. Elle renvoie une ***Promise*** qui se résout à la réponse à cette demande - dès que le serveur répond avec des ***headers*** - même si la réponse du serveur est un état d'erreur HTTP. \n",
        "\n",
        "Une fois qu'une réponse est récupérée, il existe un certain nombre de méthodes permettant de définir le contenu du corps du message et la manière dont il doit être traité.\n",
        "\n",
        "Vous pouvez créer une requête et une réponse directement en utilisant les constructeurs ***Request()*** et ***Response()***, mais il est rare de le faire directement. Il est plus probable que ces éléments soient créés en tant que résultats d'autres actions de l'API (par exemple, ***FetchEvent.respondWith()*** à partir de travailleurs de service).\n",
        "\n"
      ],
      "metadata": {
        "id": "s2qCpzZ74GMK"
      }
    },
    {
      "cell_type": "markdown",
      "source": [
        "Voici comment une demande de recherche est effectuée : "
      ],
      "metadata": {
        "id": "uALdGGfQ4GMM"
      }
    },
    {
      "cell_type": "code",
      "source": [
        "fetch(resource)\n",
        "fetch(resource, options)"
      ],
      "metadata": {
        "id": "G42bnCwd4GMO"
      },
      "execution_count": null,
      "outputs": []
    },
    {
      "cell_type": "markdown",
      "source": [
        "**Parameters**"
      ],
      "metadata": {
        "id": "JJCbhQfB4GMP"
      }
    },
    {
      "cell_type": "markdown",
      "source": [
        "**Ressource** \n",
        "Ceci définit la ressource que vous souhaitez récupérer. Il peut s'agir de :\n",
        "\n",
        "- Une chaîne ou tout autre objet avec un stringifier - y compris un objet URL - qui fournit l'URL de la ressource que vous souhaitez récupérer.\n",
        "- Un objet ***Request***."
      ],
      "metadata": {
        "id": "bekF1kVK4GMQ"
      }
    },
    {
      "cell_type": "markdown",
      "source": [
        "**Options**\n",
        "\n",
        " \n",
        "(facultatif) \n",
        "\n",
        "Un objet contenant tous les paramètres personnalisés que vous souhaitez appliquer à la demande. Les options possibles sont :\n",
        "\n",
        "- **méthode :** La méthode de demande, par exemple GET, POST. Notez que l'en-tête Origin n'est pas défini sur les requêtes Fetch dont la méthode est HEAD ou GET. (Ce comportement a été corrigé dans Firefox 65 - voir le bogue 1508661).\n",
        "\n",
        "- **Headers :** Tous les en-têtes que vous souhaitez ajouter à votre requête, contenus dans un objet Headers ou un objet littéral avec des valeurs de type String. Notez que certains noms sont interdits.\n",
        "\n",
        "- **Body :** Tout corps que vous souhaitez ajouter à votre requête : il peut s'agir d'un Blob, d'un ArrayBuffer, d'un TypedArray, d'un DataView, d'un FormData, d'un URLSearchParams, d'un objet ou d'un littéral de type String ou d'un objet ReadableStream. Cette dernière possibilité est encore expérimentale ; consultez les informations de compatibilité pour vérifier que vous pouvez l'utiliser. Notez qu'une requête utilisant la méthode GET ou HEAD ne peut pas avoir de corps.\n",
        "\n",
        "- **Credentials :** \n",
        "Contrôle ce que les navigateurs font avec les informations d'identification (cookies, entrées d'authentification HTTP et certificats client TLS). Doit être l'une des chaînes de caractères suivantes :\n",
        "\n",
        "- **Omit :**\n",
        "Indique aux navigateurs d'exclure les informations d'identification de la demande et d'ignorer toute information d'identification renvoyée dans la réponse (par exemple, tout en-tête Set-Cookie).\n",
        "\n",
        "voir le reste sur : https://developer.mozilla.org/en-US/docs/Web/API/fetch\n",
        "\n"
      ],
      "metadata": {
        "id": "Y82gCW_r4GMR"
      }
    },
    {
      "cell_type": "markdown",
      "source": [
        "**Examples**"
      ],
      "metadata": {
        "id": "SfaJV3bj4GMT"
      }
    },
    {
      "cell_type": "code",
      "source": [
        "const data = { username: 'example' };\n",
        "\n",
        "fetch('https://example.com/profile', {\n",
        "  method: 'POST', // or 'PUT'\n",
        "  headers: {\n",
        "    'Content-Type': 'application/json',\n",
        "  },\n",
        "  body: JSON.stringify(data),\n",
        "})\n",
        "  .then((response) => response.json())\n",
        "  .then((data) => {\n",
        "    console.log('Success:', data);\n",
        "  })\n",
        "  .catch((error) => {\n",
        "    console.error('Error:', error);\n",
        "  });"
      ],
      "metadata": {
        "id": "CR8HHrxQ4GMU"
      },
      "execution_count": null,
      "outputs": []
    },
    {
      "cell_type": "markdown",
      "source": [
        "**GUIDE FETCH DU MDN **"
      ],
      "metadata": {
        "id": "rgErOqlRgNit"
      }
    },
    {
      "cell_type": "markdown",
      "source": [
        "Dans cet exemple, nous allons télécharger le fichier JSON à partir de https://mdn.github.io/learning-area/javascript/apis/fetching-data/can-store/products.json, et enregistrer certaines informations à son sujet.\n",
        "\n",
        "Pour ce faire, nous allons envoyer une requête ***HTTP*** au serveur. Dans une requête ***HTTP***, nous envoyons un message de demande à un serveur distant, et il nous renvoie une réponse. Dans ce cas, nous allons envoyer une requête pour obtenir un fichier JSON du serveur. Nous allons utiliser l'API ***fetch()***, qui est le remplacement moderne, basé sur les promesses, de ***XMLHttpRequest***.\n",
        "\n",
        "Copiez ceci dans la console JavaScript de votre navigateur :"
      ],
      "metadata": {
        "id": "nSaMNh99gPxN"
      }
    },
    {
      "cell_type": "code",
      "source": [
        "const fetchPromise = fetch('https://mdn.github.io/learning-area/javascript/apis/fetching-data/can-store/products.json');\n",
        "\n",
        "console.log(fetchPromise);\n",
        "\n",
        "fetchPromise.then((response) => {\n",
        "  console.log(`Received response: ${response.status}`);\n",
        "});\n",
        "\n",
        "console.log(\"Started request…\");\n"
      ],
      "metadata": {
        "id": "bk_LjZDlgM_T"
      },
      "execution_count": null,
      "outputs": []
    },
    {
      "cell_type": "markdown",
      "source": [
        "Voici ce que nous faisons :\n",
        "\n",
        "  - appel de l'API ***fetch()*** et affectation de la valeur de retour à la variable ***fetchPromise***\n",
        "  - immédiatement après, nous enregistrons la variable ***fetchPromise***. Cela devrait donner quelque chose comme : ***Promise { <state> : \"pending\" }***, nous indiquant que nous avons un objet ***Promise***, et qu'il a un état dont la valeur est ***\"pending\"***. L'état ***\"pending\"*** signifie que l'opération de récupération est toujours en cours.\n",
        "  - en passant une fonction de gestion dans la méthode ***then()*** de la ***Promise***. Lorsque (et si) l'opération de récupération réussit, la promesse appellera notre gestionnaire, en lui transmettant un objet ***Response***, qui contient la réponse du serveur.\n",
        "  - L'enregistrement d'un message indiquant que nous avons démarré la requête.\n",
        "\n",
        "  Notez que ***Started request...*** est enregistré avant que nous recevions la réponse. Contrairement à une fonction synchrone, ***fetch()*** revient alors que la requête est toujours en cours, ce qui permet à notre programme de rester réactif. La réponse affiche le code d'état 200 (OK), ce qui signifie que notre requête a réussi.\n",
        "\n"
      ],
      "metadata": {
        "id": "kF1q4D7Gg_II"
      }
    },
    {
      "cell_type": "markdown",
      "source": [
        "**Chainâge de promesses**"
      ],
      "metadata": {
        "id": "ea9AJNxFhVb_"
      }
    },
    {
      "cell_type": "markdown",
      "source": [
        "Avec l'API ***fetch()***, une fois que vous avez obtenu un objet ***Response***, vous devez appeler une autre fonction pour obtenir les données de la réponse. Dans ce cas, nous voulons obtenir les données de la réponse sous forme de JSON, nous devons donc appeler la méthode ***json()*** de l'objet ***Response***. Il s'avère que la méthode ***json()*** est également asynchrone. Il s'agit donc d'un cas où nous devons appeler deux fonctions asynchrones successives.\n",
        "\n",
        "Essayez ceci :\n"
      ],
      "metadata": {
        "id": "4cVZ67puh04t"
      }
    },
    {
      "cell_type": "code",
      "source": [
        "const fetchPromise = fetch('https://mdn.github.io/learning-area/javascript/apis/fetching-data/can-store/products.json');\n",
        "\n",
        "fetchPromise.then((response) => {\n",
        "  const jsonPromise = response.json();\n",
        "  jsonPromise.then((data) => {\n",
        "    console.log(data[0].name);\n",
        "  });\n",
        "});\n"
      ],
      "metadata": {
        "id": "rlkY7qZXh22_"
      },
      "execution_count": null,
      "outputs": []
    },
    {
      "cell_type": "markdown",
      "source": [
        "Dans cet exemple, comme précédemment, nous ajoutons un gestionnaire ***then()*** à la promesse renvoyée par ***fetch()***. Mais cette fois, notre gestionnaire appelle ***response.json()***, puis passe un nouveau gestionnaire ***then()*** dans la promesse renvoyée par ***response.json()***.\n",
        "\n",
        "Cela devrait enregistrer \"baked beans\" (le nom du premier produit listé dans \"products.json\").\n",
        "\n",
        "Mais cette méthode reique d'engendrer quelque chose qu'on appel \"callback hell\". \n",
        "\n",
        "\n",
        "on va donc chercher à réécrire notre code avec la méthode ***then()***  qui renvoie lui-même une promesse, qui sera complétée par le résultat de la fonction qui lui est passée. Cela signifie que nous pouvons (et devrions certainement) réécrire le code ci-dessus comme ceci :\n"
      ],
      "metadata": {
        "id": "iq8h6HCSi8MQ"
      }
    },
    {
      "cell_type": "code",
      "source": [
        "const fetchPromise = fetch('https://mdn.github.io/learning-area/javascript/apis/fetching-data/can-store/products.json');\n",
        "\n",
        "fetchPromise\n",
        "  .then((response) => response.json())\n",
        "  .then((data) => {\n",
        "    console.log(data[0].name);\n",
        "  });\n"
      ],
      "metadata": {
        "id": "_SZwt7TMjlOz"
      },
      "execution_count": null,
      "outputs": []
    },
    {
      "cell_type": "markdown",
      "source": [
        "Au lieu d'appeler le second ***then()*** à l'intérieur du gestionnaire du premier ***then()***, nous pouvons retourner la promesse renvoyée par ***json()***, et appeler le second ***then()*** sur cette valeur de retour. C'est ce qu'on appelle le **chaînage de promesses** et cela signifie que nous **pouvons éviter des niveaux d'indentation toujours plus élevés** lorsque nous devons effectuer des appels de fonctions asynchrones consécutifs.\n",
        "\n",
        "Avant de passer à l'étape suivante, il y a encore un élément à ajouter. Nous devons vérifier que le serveur a accepté et a été capable de traiter la requête, avant d'essayer de la lire. Pour ce faire, nous vérifions le code d'état de la réponse et lançons une erreur s'il n'est pas \"OK\" :\n",
        "\n"
      ],
      "metadata": {
        "id": "v23TXkMqj1CD"
      }
    },
    {
      "cell_type": "code",
      "source": [
        "const fetchPromise = fetch('https://mdn.github.io/learning-area/javascript/apis/fetching-data/can-store/products.json');\n",
        "\n",
        "fetchPromise\n",
        "  .then((response) => {\n",
        "    if (!response.ok) {\n",
        "      throw new Error(`HTTP error: ${response.status}`);\n",
        "    }\n",
        "    return response.json();\n",
        "  })\n",
        "  .then((data) => {\n",
        "    console.log(data[0].name);\n",
        "  });\n"
      ],
      "metadata": {
        "id": "0xmWyBNxj0d3"
      },
      "execution_count": null,
      "outputs": []
    },
    {
      "cell_type": "markdown",
      "source": [
        "\n",
        "\n",
        "**Attraper les erreurs**"
      ],
      "metadata": {
        "id": "jk0OPUSykajz"
      }
    },
    {
      "cell_type": "markdown",
      "source": [
        "Ceci nous amène au dernier point : comment gérer les erreurs ? L'API ***fetch(***) peut lancer une erreur pour de nombreuses raisons (par exemple, parce qu'il n'y avait pas de connectivité réseau ou que l'URL était malformée) et nous lançons nous-mêmes une erreur si le serveur renvoie une erreur.\n",
        "\n",
        "\n",
        "Pour prendre en charge la gestion des erreurs, les objets ***Promise*** fournissent une méthode ***catch()***. Cette méthode ressemble beaucoup à ***then()*** : vous l'appelez et lui passez une fonction de gestion. Toutefois, alors que le gestionnaire transmis à ***then()*** est appelé lorsque l'opération asynchrone réussit, le gestionnaire transmis à ***catch()*** est appelé lorsque l'**opération asynchrone échoue.**\n",
        "\n",
        "Si vous ajoutez ***catch()*** à la fin d'une chaîne de promesses, il sera appelé lorsque l'un des appels de fonctions asynchrones échoue. Ainsi, vous pouvez implémenter une opération sous la forme de plusieurs appels de fonction asynchrones consécutifs, et avoir un seul endroit pour gérer toutes les erreurs.\n",
        "\n",
        "Essayez cette version de notre code ***fetch()***. Nous avons ajouté un gestionnaire d'erreurs en utilisant ***catch()***, et nous avons également modifié l'URL pour que la requête échoue.\n",
        "\n",
        "\n",
        "\n",
        "\n"
      ],
      "metadata": {
        "id": "CdER_bzClSzg"
      }
    },
    {
      "cell_type": "code",
      "source": [
        "const fetchPromise = fetch('bad-scheme://mdn.github.io/learning-area/javascript/apis/fetching-data/can-store/products.json');\n",
        "\n",
        "fetchPromise\n",
        "  .then((response) => {\n",
        "    if (!response.ok) {\n",
        "      throw new Error(`HTTP error: ${response.status}`);\n",
        "    }\n",
        "    return response.json();\n",
        "  })\n",
        "  .then((data) => {\n",
        "    console.log(data[0].name);\n",
        "  })\n",
        "  .catch((error) => {\n",
        "    console.error(`Could not get products: ${error}`);\n",
        "  });\n"
      ],
      "metadata": {
        "id": "lKdDBXRflTio"
      },
      "execution_count": null,
      "outputs": []
    },
    {
      "cell_type": "markdown",
      "source": [
        "**Terminologie de la promesse**"
      ],
      "metadata": {
        "id": "5Ixwy56IlkJf"
      }
    },
    {
      "cell_type": "markdown",
      "source": [
        "Les promesses s'accompagnent d'une terminologie assez spécifique qu'il est utile de clarifier.\n",
        "\n",
        "Tout d'abord, une promesse peut se trouver dans l'un des trois états suivants :\n",
        "\n",
        "  - ***pending*** : la promesse a été créée et la fonction asynchrone à laquelle elle est associée n'a pas encore réussi ou échoué. C'est l'état dans lequel se trouve votre promesse lorsqu'elle est renvoyée par un appel à fetch(), et que la requête est toujours en cours.\n",
        "  - ***fulfilled*** : la fonction asynchrone a réussi. Lorsqu'une promesse est remplie, son gestionnaire then() est appelé.\n",
        "  - ***rejected ***: la fonction asynchrone a échoué. Lorsqu'une promesse est rejetée, son gestionnaire catch() est appelé.\n",
        "\n",
        "Notez que ce que signifie \"réussi\" ou \"échoué\" ici dépend de l'API en question : par exemple, ***fetch()*** considère qu'une requête a réussi si le serveur a renvoyé une erreur telle que 404 Not Found, mais pas si une erreur réseau a empêché l'envoi de la requête.\n",
        "\n",
        "Parfois, nous utilisons le terme réglé pour couvrir à la fois les cas de réussite et de rejet.\n",
        "\n",
        "Une promesse est résolue si elle est réglée, ou si elle a été \"verrouillée\" pour suivre l'état d'une autre promesse.\n",
        "\n"
      ],
      "metadata": {
        "id": "ufr9Z8Dxlls_"
      }
    },
    {
      "cell_type": "markdown",
      "source": [
        "# Fonction\n"
      ],
      "metadata": {
        "id": "A2td3ZC_HmaE"
      }
    },
    {
      "cell_type": "code",
      "source": [
        "\n",
        "// see exemple\n",
        "let theNumber = Number(prompt(\"Pick a number\"));\n",
        "console.log(\"Your number is the square root of \" +\n",
        "  theNumber * theNumber);\n",
        "\n",
        "            \n",
        "//The function Number converts a value to a number. We need that conversion because the result of prompt is a string value, and we want a number. There are similar functions called String and Boolean that convert values to those types.\n"
      ],
      "metadata": {
        "id": "HIxNWpoHIc2o"
      },
      "execution_count": null,
      "outputs": []
    },
    {
      "cell_type": "markdown",
      "source": [
        "Dans l'environnement js par défaut, beaucoup de valeurs sont des fonctions. **Une fonction est un morceau de programme enveloppé dans une valeur.** Ces valeurs peuvent être appliquées afin d'exécuter le programme enveloppé.\n",
        "\n",
        "**L'exécution d'une fonction est appelée invocation, appel, ou application.**\n",
        "\n",
        "Pour écrire une fonction, vous devez utiliser le mot clé ***\"function\"***, puis nommer votre fonction. Ensuite, des parenthèses permettent de passer un paramètre. Enfin, le corps de la fonction se trouve entre accolades. \n",
        "\n"
      ],
      "metadata": {
        "id": "9VnLR5aOFk1w"
      }
    },
    {
      "cell_type": "code",
      "source": [
        "function myFunction() {\n",
        "  //executable code\n",
        "}"
      ],
      "metadata": {
        "id": "wBfb8nScnhwP"
      },
      "execution_count": null,
      "outputs": []
    },
    {
      "cell_type": "markdown",
      "source": [
        "C'est ainsi que vous pouvez exécuter une fonction :"
      ],
      "metadata": {
        "id": "jp7zY1UmoKTl"
      }
    },
    {
      "cell_type": "code",
      "source": [
        "myFunction()"
      ],
      "metadata": {
        "id": "VmZmhZkAoPa7"
      },
      "execution_count": null,
      "outputs": []
    },
    {
      "cell_type": "markdown",
      "source": [
        "\n",
        "Lorsqu'une fonction produit une valeur, on dit qu'elle renvoie cette valeur."
      ],
      "metadata": {
        "id": "57Ti4ZRbG4I9"
      }
    },
    {
      "cell_type": "markdown",
      "source": [
        "Une fonction peut contenir une variable locale qui est déclarée dans sa portée locale. Elle peut également accéder à des variables externes et modifier leurs valeurs. "
      ],
      "metadata": {
        "id": "AQHY1iqRoig-"
      }
    },
    {
      "cell_type": "code",
      "source": [
        "function showMessage() {\n",
        "let message = \"Hello, I'm JavaScript!\"; // local variable\n",
        "alert( message ); }\n",
        "showMessage(); // Hello, I'm JavaScript!\n",
        "\n",
        "alert(message); // <-- Error! The variable is local to the function\n",
        "\n",
        "or:\n",
        "\n",
        "let userName = 'John';\n",
        "function showMessage() {\n",
        "let message = 'Hello, ' + ;\n",
        "  alert(message);\n",
        "}\n",
        " \n",
        "showMessage(); // Hello, John"
      ],
      "metadata": {
        "id": "XAFb8L-SoxcX"
      },
      "execution_count": null,
      "outputs": []
    },
    {
      "cell_type": "markdown",
      "source": [
        "**Parametères**"
      ],
      "metadata": {
        "id": "xsZv3BhaIFl-"
      }
    },
    {
      "cell_type": "markdown",
      "source": [
        "Lorsque nous appelons une fonction, nous pouvons passer un paramètre, les données sont traitées dans la fonction. Nous pouvons passer plusieurs paramètres comme suit :"
      ],
      "metadata": {
        "id": "PbpfaOozpQHX"
      }
    },
    {
      "cell_type": "code",
      "source": [
        "function showMessage(from, text) {\n",
        "// arguments: from, text\n",
        "  alert(from + ': ' + text);\n",
        "}\n",
        "\n",
        "showMessage('Ann', 'Hello!'); // Ann: Hello! (*) showMessage('Ann', \"What's up?\"); // Ann: What's up? (**)"
      ],
      "metadata": {
        "id": "4FiH_AmKptJ5"
      },
      "execution_count": null,
      "outputs": []
    },
    {
      "cell_type": "code",
      "source": [
        "note : a global variable will not be changed after a function is called if said function modifies the variable on a local scope :"
      ],
      "metadata": {
        "id": "52Hw_rewqTxM"
      },
      "execution_count": null,
      "outputs": []
    },
    {
      "cell_type": "code",
      "source": [
        "function showMessage(from, text) {\n",
        "from = '*' + from + '*'; // make \"from\" look nicer\n",
        "alert( from + ': ' + text ); }\n",
        "let from = \"Ann\";\n",
        "showMessage(from, \"Hello\"); // *Ann*: Hello\n",
        "// the value of \"from\" is the same, the function modified a local copy alert( from ); // Ann"
      ],
      "metadata": {
        "id": "H1dFjboZqcJN"
      },
      "execution_count": null,
      "outputs": []
    },
    {
      "cell_type": "markdown",
      "source": [
        "Lors de la déclaration d'une fonction, nous pouvons donner un paramètre par défaut (if), sinon elle retournera 'undefined' si aucune valeur n'a été passée :"
      ],
      "metadata": {
        "id": "12vLwDHEqwFV"
      }
    },
    {
      "cell_type": "code",
      "source": [
        "function showMessage(from, text = anotherFunction()) {\n",
        "  // anotherFunction() only executed if no text given \n",
        "  // its result becomes the value of text\n",
        "}"
      ],
      "metadata": {
        "id": "mYnm1_Xvq4Lr"
      },
      "execution_count": null,
      "outputs": []
    },
    {
      "cell_type": "markdown",
      "source": [
        "**Renvoyer une valeur**"
      ],
      "metadata": {
        "id": "xw_3IW5SrFmQ"
      }
    },
    {
      "cell_type": "markdown",
      "source": [
        "une fonction peut renvoyer une valeur dans le cade d'appel comme résultat :"
      ],
      "metadata": {
        "id": "K9tj2tRnsCRC"
      }
    },
    {
      "cell_type": "code",
      "source": [
        "function sum(a, b)\n",
        "{a + b;\n",
        "  return\n",
        "}\n",
        "\n",
        "let result = sum(1, 2); alert( result ); // 3"
      ],
      "metadata": {
        "id": "VBt6ghr5sM2a"
      },
      "execution_count": null,
      "outputs": []
    },
    {
      "cell_type": "markdown",
      "source": [
        "Le retour peut se faire n'importe où et être utilisé dans différentes circonstances :"
      ],
      "metadata": {
        "id": "OFfpYbresfGb"
      }
    },
    {
      "cell_type": "code",
      "source": [
        "function checkAge(age) {\n",
        "  if (age > 18) {\n",
        "    return true;\n",
        "  } else {\n",
        "    return confirm('Do you have permission from your parents?');\n",
        "  }\n",
        "}\n",
        "\n",
        "let age = prompt('How old are you?', 18);\n",
        "\n",
        "if (checkAge(age)) {\n",
        "  alert('Access granted');\n",
        "} else {\n",
        "  alert( 'Access denied' );\n",
        "}"
      ],
      "metadata": {
        "id": "QuV9k6lmsjZh"
      },
      "execution_count": null,
      "outputs": []
    },
    {
      "cell_type": "markdown",
      "source": [
        "Un retour sans valeur entraîne la sortie immédiate de la fonction. Une fonction sans retour produira une sortie indéfinie. "
      ],
      "metadata": {
        "id": "-WZ6iCmktB9S"
      }
    },
    {
      "cell_type": "markdown",
      "source": [
        "**Fonctions anonymes**"
      ],
      "metadata": {
        "id": "uXoK7vD_czVD"
      }
    },
    {
      "cell_type": "code",
      "source": [
        "(function () {\n",
        "  alert('hello');\n",
        "})"
      ],
      "metadata": {
        "id": "I5K8LZf8c-bd"
      },
      "execution_count": null,
      "outputs": []
    },
    {
      "cell_type": "markdown",
      "source": [
        "Les fonctions anonymes n'ont pas de nom, elles sont généralement utilisées lorsqu'une fonction s'attend à voir une autre fonction en tant que paramètre. p.s. c'est généralement le paramètre : "
      ],
      "metadata": {
        "id": "VAhbmGGjc3rN"
      }
    },
    {
      "cell_type": "code",
      "source": [
        "textBox.addEventListener('keydown', function(event) {\n",
        "  console.log(`You pressed \"${event.key}\".`);\n",
        "});"
      ],
      "metadata": {
        "id": "KMYsax9ydQsb"
      },
      "execution_count": null,
      "outputs": []
    },
    {
      "cell_type": "markdown",
      "source": [
        "**Fonctions fléchées**"
      ],
      "metadata": {
        "id": "UE-MFZfJda13"
      }
    },
    {
      "cell_type": "markdown",
      "source": [
        "Les fonctions flèches sont un moyen ES6 d'écrire des fonctions courtes et concises. \n"
      ],
      "metadata": {
        "id": "RI0j3U_EddhN"
      }
    },
    {
      "cell_type": "code",
      "source": [
        "textBox.addEventListener('keydown', (event) => {\n",
        "  console.log(`You pressed \"${event.key}\".`);\n",
        "});"
      ],
      "metadata": {
        "id": "br7lkCQ_dr6u"
      },
      "execution_count": null,
      "outputs": []
    },
    {
      "cell_type": "markdown",
      "source": [
        "ici, nous avons supprimé la fonction (event) et laissé juste (event). \n",
        "Si une fonction flèche n'a qu'un seul bloc de code exécutable, vous pouvez omettre les accolades :"
      ],
      "metadata": {
        "id": "_tzd-8Lgdsbk"
      }
    },
    {
      "cell_type": "code",
      "source": [
        "textBox.addEventListener('keydown', (event) => \n",
        "  console.log(`You pressed \"${event.key}\".`);\n",
        ");"
      ],
      "metadata": {
        "id": "Ed6KoG7zd2nY"
      },
      "execution_count": null,
      "outputs": []
    },
    {
      "cell_type": "markdown",
      "source": [
        "si la fonction parle d'un paramètre, vous pouvez omettre les parenthèses autour du paramètre :"
      ],
      "metadata": {
        "id": "-KSWiYXGd_AE"
      }
    },
    {
      "cell_type": "code",
      "source": [
        "textBox.addEventListener('keydown', event => \n",
        "  console.log(`You pressed \"${event.key}\".`);\n",
        ");"
      ],
      "metadata": {
        "id": "j8d-KKP3d-DN"
      },
      "execution_count": null,
      "outputs": []
    },
    {
      "cell_type": "code",
      "source": [
        "if your function rturns on noe line, we can omit the return statement. "
      ],
      "metadata": {
        "id": "HkCA0QrxeRuo"
      },
      "execution_count": null,
      "outputs": []
    },
    {
      "cell_type": "markdown",
      "source": [
        "# JSON\n"
      ],
      "metadata": {
        "id": "IzFzfe4ynxMR"
      }
    },
    {
      "cell_type": "markdown",
      "source": [
        "JSON est un format de données textuel qui suit la syntaxe objet JavaScript, popularisée par Douglas Crockford. Même s'il ressemble beaucoup à la syntaxe objet JavaScript, il peut être utilisé indépendamment de JavaScript et de nombreux environnements de programmation permettent de lire (analyser) et de générer du JSON."
      ],
      "metadata": {
        "id": "KZQIFh3Nn0Bu"
      }
    },
    {
      "cell_type": "markdown",
      "source": [
        "Pour utiliser les données JSON, vous devez les convertir en un objet javascript natif (il y a une fonction intégrée pour cela). Une chaîne JSON peut être stockée dans son propre fichier, qui est en fait un simple fichier texte avec une extension .json. "
      ],
      "metadata": {
        "id": "llm6GWlF50Yx"
      }
    },
    {
      "cell_type": "markdown",
      "source": [
        "**Structure JSON**"
      ],
      "metadata": {
        "id": "pQPKQUZT6ost"
      }
    },
    {
      "cell_type": "markdown",
      "source": [
        "Comme décrit ci-dessus, JSON est une chaîne de caractères dont le format ressemble beaucoup au format des littéraux d'objet JavaScript. Vous pouvez inclure les mêmes types de données de base dans JSON que dans un objet JavaScript standard : chaînes de caractères, nombres, tableaux, booléens et autres littéraux d'objet. Cela vous permet de construire une hiérarchie de données, comme suit :"
      ],
      "metadata": {
        "id": "foEeDznh6vGY"
      }
    },
    {
      "cell_type": "code",
      "source": [
        "{\n",
        "  \"squadName\": \"Super hero squad\",\n",
        "  \"homeTown\": \"Metro City\",\n",
        "  \"formed\": 2016,\n",
        "  \"secretBase\": \"Super tower\",\n",
        "  \"active\": true,\n",
        "  \"members\": [\n",
        "    {\n",
        "      \"name\": \"Molecule Man\",\n",
        "      \"age\": 29,\n",
        "      \"secretIdentity\": \"Dan Jukes\",\n",
        "      \"powers\": [\"Radiation resistance\", \"Turning tiny\", \"Radiation blast\"]\n",
        "    },\n",
        "    {\n",
        "      \"name\": \"Madame Uppercut\",\n",
        "      \"age\": 39,\n",
        "      \"secretIdentity\": \"Jane Wilson\",\n",
        "      \"powers\": [\n",
        "        \"Million tonne punch\",\n",
        "        \"Damage resistance\",\n",
        "        \"Superhuman reflexes\"\n",
        "      ]\n",
        "    },\n",
        "    {\n",
        "      \"name\": \"Eternal Flame\",\n",
        "      \"age\": 1000000,\n",
        "      \"secretIdentity\": \"Unknown\",\n",
        "      \"powers\": [\n",
        "        \"Immortality\",\n",
        "        \"Heat Immunity\",\n",
        "        \"Inferno\",\n",
        "        \"Teleportation\",\n",
        "        \"Interdimensional travel\"\n",
        "      ]\n",
        "    }\n",
        "  ]\n",
        "}\n"
      ],
      "metadata": {
        "id": "Qh32kh096vx3"
      },
      "execution_count": null,
      "outputs": []
    },
    {
      "cell_type": "markdown",
      "source": [
        "Si nous chargeons cette chaîne dans un programme JavaScript et l'analysons dans une variable appelée ***superHeroes***, par exemple, nous pouvons alors accéder aux données qu'elle contient en utilisant la même notation point/parenthèse que nous avons vue dans l'article sur les bases des objets JavaScript. Par exemple :\n",
        "\n"
      ],
      "metadata": {
        "id": "msP15VxN6-Wx"
      }
    },
    {
      "cell_type": "code",
      "source": [
        "superHeroes.homeTown\n",
        "superHeroes['active']"
      ],
      "metadata": {
        "id": "2I_l2TaO6_3b"
      },
      "execution_count": null,
      "outputs": []
    },
    {
      "cell_type": "markdown",
      "source": [
        "Pour accéder aux données situées plus bas dans la hiérarchie, vous devez enchaîner les noms de propriétés et les index de tableaux nécessaires. Par exemple, pour accéder au troisième pouvoir du deuxième héros de la liste des membres, vous devez procéder comme suit :"
      ],
      "metadata": {
        "id": "blOoqI9d7H5z"
      }
    },
    {
      "cell_type": "code",
      "source": [
        "superHeroes['members'][1]['powers'][2]"
      ],
      "metadata": {
        "id": "kRiBwdZH7I0o"
      },
      "execution_count": null,
      "outputs": []
    },
    {
      "cell_type": "markdown",
      "source": [
        "**Arrays et JSON**"
      ],
      "metadata": {
        "id": "Ey08ythx7TUF"
      }
    },
    {
      "cell_type": "markdown",
      "source": [
        "Nous avons mentionné ci-dessus que le texte JSON ressemble essentiellement à un objet JavaScript dans une chaîne de caractères. Nous pouvons également convertir des tableaux en JSON ou à partir de celui-ci. Le texte ci-dessous est également un JSON valide, par exemple :"
      ],
      "metadata": {
        "id": "x4gQfgnS7oXF"
      }
    },
    {
      "cell_type": "code",
      "source": [
        "[\n",
        "  {\n",
        "    \"name\": \"Molecule Man\",\n",
        "    \"age\": 29,\n",
        "    \"secretIdentity\": \"Dan Jukes\",\n",
        "    \"powers\": [\"Radiation resistance\", \"Turning tiny\", \"Radiation blast\"]\n",
        "  },\n",
        "  {\n",
        "    \"name\": \"Madame Uppercut\",\n",
        "    \"age\": 39,\n",
        "    \"secretIdentity\": \"Jane Wilson\",\n",
        "    \"powers\": [\n",
        "      \"Million tonne punch\",\n",
        "      \"Damage resistance\",\n",
        "      \"Superhuman reflexes\"\n",
        "    ]\n",
        "  }\n",
        "]"
      ],
      "metadata": {
        "id": "GSWeLSik7rAY"
      },
      "execution_count": null,
      "outputs": []
    },
    {
      "cell_type": "markdown",
      "source": [
        "Pour accéder aux données : "
      ],
      "metadata": {
        "id": "LNcwRJt37vB7"
      }
    },
    {
      "cell_type": "code",
      "source": [
        "[0][\"powers\"][0] //Just as you would do in a normal array "
      ],
      "metadata": {
        "id": "cT92Q0_M7xsz"
      },
      "execution_count": null,
      "outputs": []
    },
    {
      "cell_type": "markdown",
      "source": [
        "NOTES : \n",
        "- JSON ne contient que des chaînes de caractères, sans méthodes ni propriétés.\n",
        "- JSON exige l'utilisation de guillemets doubles autour des chaînes de caractères et des noms de propriétés. Les guillemets simples ne sont pas valides, sauf s'ils entourent l'ensemble de la chaîne JSON.\n",
        "- Une seule virgule ou deux-points mal placés peuvent provoquer une erreur dans un fichier JSON et l'empêcher de fonctionner. Vous devez veiller à valider toutes les données que vous tentez d'utiliser (bien que le JSON généré par ordinateur soit moins susceptible de contenir des erreurs, tant que le programme générateur fonctionne correctement). Vous pouvez valider le JSON à l'aide d'une application comme [JSONLint] (https://jsonlint.com/). \n",
        "- Le JSON peut en fait prendre la forme de n'importe quel type de données pouvant être inclus dans le JSON, et pas seulement des tableaux ou des objets. Ainsi, par exemple, une simple chaîne de caractères ou un nombre serait un JSON valide.\n",
        "- Contrairement au code JavaScript dans lequel les propriétés des objets peuvent être non citées, dans JSON, seules les chaînes citées peuvent être utilisées comme propriétés.\n",
        "\n",
        "\n"
      ],
      "metadata": {
        "id": "36CLGoVx854Q"
      }
    },
    {
      "cell_type": "markdown",
      "source": [
        "Voici comment appeler un fichier de données JSON en utilisant la fonction asynchrone et l'API FETCH (cf Fetch API) :"
      ],
      "metadata": {
        "id": "UjmIT4pbiWQ2"
      }
    },
    {
      "cell_type": "code",
      "source": [
        "async function populate() {\n",
        "\n",
        "  const requestURL = 'https://mdn.github.io/learning-area/javascript/oojs/json/superheroes.json';\n",
        "  const request = new Request(requestURL);\n",
        "\n",
        "  const response = await fetch(request);\n",
        "  const superHeroes = await response.json();\n",
        "\n",
        "  populateHeader(superHeroes);\n",
        "  populateHeroes(superHeroes);\n",
        "\n",
        "}"
      ],
      "metadata": {
        "id": "Z_jiCQwljCQ5"
      },
      "execution_count": null,
      "outputs": []
    },
    {
      "cell_type": "markdown",
      "source": [
        "Dans notre fonction, les quatre premières lignes utilisent l'API Fetch pour récupérer le JSON depuis le serveur :\n",
        "\n",
        "- nous déclarons la variable ***requestURL*** pour stocker l'URL de GitHub\n",
        "- nous utilisons l'URL pour initialiser un nouvel objet Request.\n",
        "- nous effectuons la requête réseau à l'aide de la fonction ***fetch()***, et celle-ci renvoie un objet ***Response***\n",
        "- nous récupérons la réponse au format JSON à l'aide de la fonction json() de l'objet ***Response***.\n",
        "\n",
        "\n"
      ],
      "metadata": {
        "id": "_a9rAcWTjjWW"
      }
    },
    {
      "cell_type": "markdown",
      "source": [
        "Après tout cela, la variable ***superHeroes*** contiendra l'objet JavaScript basé sur le JSON. Nous transmettons ensuite cet objet à deux appels de fonction : le premier remplit le ***header*** avec les données correctes, tandis que le second crée une carte d'information pour chaque héros de l'équipe et l'insère dans la \"section\"."
      ],
      "metadata": {
        "id": "4Dq86q1olXOt"
      }
    },
    {
      "cell_type": "markdown",
      "source": [
        "**Conversion entre objet et texte**"
      ],
      "metadata": {
        "id": "5-CGlhwzu0qw"
      }
    },
    {
      "cell_type": "markdown",
      "source": [
        "L'exemple ci-dessus était simple en termes d'accès à l'objet JavaScript, car nous avons converti la réponse du réseau directement en un objet JavaScript en utilisant response.json().\n",
        "\n",
        "Mais parfois, nous n'avons pas cette chance : il arrive que nous recevions une chaîne JSON brute et que nous devions la convertir nous-mêmes en objet. Et lorsque nous voulons envoyer un objet JavaScript sur le réseau, nous devons le convertir en JSON (une chaîne) avant de l'envoyer. Heureusement, ces deux problèmes sont si courants dans le développement web qu'un objet JSON intégré est disponible dans les navigateurs, qui contient les deux méthodes suivantes :\n",
        "\n"
      ],
      "metadata": {
        "id": "oOOLdUG4vG9d"
      }
    },
    {
      "cell_type": "markdown",
      "source": [
        "- ***parse()*** : Accepte une chaîne JSON comme paramètre et renvoie l'objet JavaScript correspondant.\n",
        "\n",
        "- ***stringify()*** : Accepte un objet en tant que paramètre, et renvoie la chaîne JSON équivalente.\n"
      ],
      "metadata": {
        "id": "Qs2xCs3YvJp2"
      }
    },
    {
      "cell_type": "markdown",
      "source": [
        "# Boucles while... et for\n"
      ],
      "metadata": {
        "id": "LlRttkggUIab"
      }
    },
    {
      "cell_type": "markdown",
      "source": [
        "**la boucle for**"
      ],
      "metadata": {
        "id": "w-YV3GBrcB85"
      }
    },
    {
      "cell_type": "code",
      "source": [
        " let result = 1;\n",
        " for (let counter = 0; counter < 10; counter = counter + 1) {\n",
        "   result = result * 2;\n",
        " }\n",
        "console.log(result); // → 1024\n"
      ],
      "metadata": {
        "colab": {
          "base_uri": "https://localhost:8080/"
        },
        "id": "6m1O0Yf6O1Hp",
        "outputId": "be986539-3010-4099-fd19-e7e540d95284"
      },
      "execution_count": null,
      "outputs": [
        {
          "output_type": "stream",
          "name": "stdout",
          "text": [
            "1024\n"
          ]
        }
      ]
    },
    {
      "cell_type": "markdown",
      "source": [
        "En particulier lors d'une boucle, un programme a souvent besoin de \"mettre à jour\" une liaison pour qu'elle contienne une valeur basée sur la valeur précédente de cette liaison.\n",
        "\n",
        "\n",
        "compteur = compteur + 1 ;\n",
        "\n",
        "\n",
        "JavaScript fournit un raccourci pour cela.\n",
        "counter += 1 ;\n",
        "\n",
        "\n",
        "Des raccourcis similaires fonctionnent pour de nombreux autres opérateurs, tels que result *= 2 pour doubler le résultat ou counter -= 1 pour compter vers le bas.\n",
        "Cela nous permet de raccourcir un peu plus notre exemple de comptage.\n",
        "\n",
        "\n"
      ],
      "metadata": {
        "id": "cELMxjeVQVqv"
      }
    },
    {
      "cell_type": "code",
      "source": [
        "\n",
        " for (let number = 0 ; number <= 12 ; number += 2) {\n",
        "   console.log(nombre) ;\n",
        "}\n"
      ],
      "metadata": {
        "id": "eUa0iBD2PzpT"
      },
      "execution_count": null,
      "outputs": []
    },
    {
      "cell_type": "markdown",
      "source": [
        "Pour compteur += 1 et compteur -= 1, il existe des équivalents encore plus courts :\n",
        "compteur++ et compteur--."
      ],
      "metadata": {
        "id": "m7aLYBTfP0y_"
      }
    },
    {
      "cell_type": "markdown",
      "source": [
        "**La boucle for a la syntaxe suivante :**\n"
      ],
      "metadata": {
        "id": "DUEo5eMLN5YK"
      }
    },
    {
      "cell_type": "code",
      "source": [
        "for (initializer; condition; final-expression) {\n",
        "  // code to run\n",
        "}"
      ],
      "metadata": {
        "id": "w0svW0LDk5dk"
      },
      "execution_count": null,
      "outputs": []
    },
    {
      "cell_type": "markdown",
      "source": [
        "Les parenthèses après un mot-clé for doivent contenir deux points-virgules. La partie située avant le premier point-virgule initialise la boucle, généralement en définissant une variable. La deuxième partie est l'expression qui vérifie si la boucle doit continuer. La dernière partie met à jour l'état de la boucle après chaque itération. Dans la plupart des cas, cette méthode est plus courte et plus claire qu'une construction ***while***.\n"
      ],
      "metadata": {
        "id": "zL3jPQEMO-dL"
      }
    },
    {
      "cell_type": "code",
      "source": [
        "  for (let i = 0; i < 3; i++) {\n",
        "    // shows 0, then 1, then 2 \n",
        "    alert(i);\n",
        "  }"
      ],
      "metadata": {
        "id": "cFFn-vu_k-7y"
      },
      "execution_count": null,
      "outputs": []
    },
    {
      "cell_type": "markdown",
      "source": [
        "L'exemple supérieur exécute une boucle, où i =0 initialement et jusqu'à ce que i < = faux, incrémente i d'une unité (++)."
      ],
      "metadata": {
        "id": "Zcntr1r-k4e1"
      }
    },
    {
      "cell_type": "markdown",
      "source": [
        "Note : Ici, la variable \"compteur\" i est déclarée directement dans la boucle. Cela s'appelle une déclaration de variable \"inline\". De telles variables ne sont visibles qu'à l'intérieur de la boucle."
      ],
      "metadata": {
        "id": "j4gr_5ZRlgXE"
      }
    },
    {
      "cell_type": "code",
      "source": [
        "or (let i = 0; i < 3; i++) {\n",
        "alert(i); // 0, 1, 2 }\n",
        "alert(i); // error, no such variable"
      ],
      "metadata": {
        "id": "X157nM2Qlqgw"
      },
      "execution_count": null,
      "outputs": []
    },
    {
      "cell_type": "markdown",
      "source": [
        "C'est parce qu'elle existe dans la portée locale de notre boucle. Au contraire, si vous utilisez une variable prédéfinie telle que :"
      ],
      "metadata": {
        "id": "YChCyxYnlrZY"
      }
    },
    {
      "cell_type": "code",
      "source": [
        "let i = 0;\n",
        "for (i = 0; i < 3; i++) { // use an existing variable alert(i); // 0, 1, 2\n",
        "}\n",
        "alert(i); // 3, visible, because declared outside of the loop"
      ],
      "metadata": {
        "id": "ZE0h6V79l1yY"
      },
      "execution_count": null,
      "outputs": []
    },
    {
      "cell_type": "markdown",
      "source": [
        "notre variable peut être appelée en dehors de la boucle. C'est ce qu'on appelle la portée globale. "
      ],
      "metadata": {
        "id": "Tb2aODN8l2mo"
      }
    },
    {
      "cell_type": "markdown",
      "source": [
        "Pour raccourcir la boucle, il est également possible de sauter des parties qui ne feraient que se répéter autrement : "
      ],
      "metadata": {
        "id": "wnED2X0WmWeu"
      }
    },
    {
      "cell_type": "code",
      "source": [
        "let i = 0; // we have i already declared and assigned\n",
        "for (; i < 3; i++) {\n",
        "  // no need for \"begin\" \n",
        "  alert(i); // 0, 1, 2\n",
        "}"
      ],
      "metadata": {
        "id": "y2TaFB2Smb2c"
      },
      "execution_count": null,
      "outputs": []
    },
    {
      "cell_type": "code",
      "source": [
        "let i = 0;\n",
        "for (; i < 3;){\n",
        "  alert(i++);\n",
        "}"
      ],
      "metadata": {
        "id": "_6VBSQ9ym2cY"
      },
      "execution_count": null,
      "outputs": []
    },
    {
      "cell_type": "markdown",
      "source": [
        "Voici un exemple d'une boucle for un peu complexe qui calcule les carrés des nombres de 1 à 9."
      ],
      "metadata": {
        "id": "k_jusG2olUmo"
      }
    },
    {
      "cell_type": "code",
      "source": [
        "const results = document.querySelector('#results');\n",
        "\n",
        "function calculate() {\n",
        "  for (let i = 1; i < 10; i++) {\n",
        "    const newResult = `${i} x ${i} = ${i * i}`;\n",
        "    results.textContent += `${newResult}\\n`;\n",
        "  }\n",
        "  results.textContent += '\\nFinished!';\n",
        "}\n",
        "\n",
        "const calculateBtn = document.querySelector('#calculate');\n",
        "const clearBtn = document.querySelector('#clear');\n",
        "\n",
        "calculateBtn.addEventListener('click', calculate);\n",
        "clearBtn.addEventListener('click', () => results.textContent = '');"
      ],
      "metadata": {
        "id": "Os6Dfi_6lcla"
      },
      "execution_count": null,
      "outputs": []
    },
    {
      "cell_type": "markdown",
      "source": [
        "Dans certains cas, on peut utiliser une boucle for pour parcourir un tableau. Mais souvent, ce n'est pas la méthode à privilégier, néanmoins voici un exemple ! "
      ],
      "metadata": {
        "id": "b04e6vBlmdlN"
      }
    },
    {
      "cell_type": "code",
      "source": [
        "const cats = ['Pete', 'Biggles', 'Jasmine'];\n",
        "\n",
        "let myFavoriteCats = 'My cats are called ';\n",
        "\n",
        "for (let i = 0; i < cats.length; i++) {\n",
        "  if (i === cats.length - 1) {   // We are at the end of the array\n",
        "    myFavoriteCats += `and ${cats[i]}.`\n",
        "  } else {\n",
        "    myFavoriteCats += `${cats[i]}, `\n",
        "  }\n",
        "}\n",
        "\n",
        "console.log(myFavoriteCats);     // \"My cats are called Pete, Biggles, and Jasmine.\""
      ],
      "metadata": {
        "id": "ZawINrjhmmJx"
      },
      "execution_count": null,
      "outputs": []
    },
    {
      "cell_type": "markdown",
      "source": [
        "**La boucle for (...de...)**"
      ],
      "metadata": {
        "id": "ISDyGpmBiVvY"
      }
    },
    {
      "cell_type": "markdown",
      "source": [
        "La boucle for... of est utilisée pour parcourir en boucle une collection, comme un ***Array***. "
      ],
      "metadata": {
        "id": "6BgIJF4BibEj"
      }
    },
    {
      "cell_type": "code",
      "source": [
        "const cats = ['Leopard', 'Serval', 'Jaguar', 'Tiger', 'Caracal', 'Lion'];\n",
        "\n",
        "for (const cat of cats) {\n",
        "  console.log(cat);\n",
        "}"
      ],
      "metadata": {
        "id": "TCW49Va1ijZn"
      },
      "execution_count": null,
      "outputs": []
    },
    {
      "cell_type": "markdown",
      "source": [
        "Étant donné la collection de chats, récupérez le premier élément de la collection.\n",
        "Assignez-le à la variable ***cat*** et exécutez le code entre les accolades {}.\n",
        "Récupérez l'élément suivant, et répétez (2) jusqu'à ce que vous ayez atteint la fin de la collection."
      ],
      "metadata": {
        "id": "VAeg-QREiqy5"
      }
    },
    {
      "cell_type": "code",
      "source": [
        "const fruits = ['apples', 'bananas', 'cherries'];\n",
        "for (const fruit of fruits) {\n",
        "  console.log(fruit); // Apples, bananas, cherries\n",
        "}"
      ],
      "metadata": {
        "colab": {
          "base_uri": "https://localhost:8080/",
          "height": 131
        },
        "id": "F7SzhnvH4vgP",
        "outputId": "c38ad299-3b23-4aef-f11c-efac660857c9"
      },
      "execution_count": null,
      "outputs": [
        {
          "output_type": "error",
          "ename": "SyntaxError",
          "evalue": "ignored",
          "traceback": [
            "\u001b[0;36m  File \u001b[0;32m\"<ipython-input-1-90885537d188>\"\u001b[0;36m, line \u001b[0;32m1\u001b[0m\n\u001b[0;31m    const fruits = ['apples', 'bananas', 'cherries'];\u001b[0m\n\u001b[0m               ^\u001b[0m\n\u001b[0;31mSyntaxError\u001b[0m\u001b[0;31m:\u001b[0m invalid syntax\n"
          ]
        }
      ]
    },
    {
      "cell_type": "markdown",
      "source": [
        "Une boucle ***for...of*** vous permet d'obtenir chaque élément du tableau et d'exécuter du JavaScript dessus. La ligne for (const fruit of fruits) dit :\n",
        "\n",
        "Obtenir le premier élément de fruits.\n",
        "\n",
        "Définissez la variable fruit sur cet élément, puis exécutez le code entre les crochets {}.\n",
        "\n",
        "Obtenez l'élément suivant dans fruits, et répétez 2, jusqu'à ce que vous atteigniez la fin de fruits."
      ],
      "metadata": {
        "id": "4umEgYmN42VA"
      }
    },
    {
      "cell_type": "markdown",
      "source": [
        "Vous pouvez effectuer des opérations spécialisées lorsque vous cherchez à boucler quelque chose. Par exemple, vous pouvez utiliser la méthode ***.map() ***qui passe une fonction et crée ensuite une nouvelle collection du résultat. par exemple : "
      ],
      "metadata": {
        "id": "1xzK2QDni9ox"
      }
    },
    {
      "cell_type": "code",
      "source": [
        "function toUpper(string) {\n",
        "  return string.toUpperCase();\n",
        "}\n",
        "\n",
        "const cats = ['Leopard', 'Serval', 'Jaguar', 'Tiger', 'Caracal', 'Lion'];\n",
        "\n",
        "const upperCats = cats.map(toUpper);\n",
        "\n",
        "console.log(upperCats);\n",
        "// [ \"LEOPARD\", \"SERVAL\", \"JAGUAR\", \"TIGER\", \"CARACAL\", \"LION\" ]\n",
        "\n"
      ],
      "metadata": {
        "id": "GnaidjdPjMqk"
      },
      "execution_count": null,
      "outputs": []
    },
    {
      "cell_type": "markdown",
      "source": [
        "Ici, nous passons une fonction dans ***cats.map()***, et ***map()*** appelle la fonction une fois pour chaque élément du tableau, en passant l'élément. Elle ajoute ensuite la valeur de retour de chaque appel de fonction à un nouveau tableau, et renvoie enfin le nouveau tableau. Dans ce cas, la fonction que nous fournissons convertit l'élément en majuscules, de sorte que le tableau résultant contient tous nos chats en majuscules :\n"
      ],
      "metadata": {
        "id": "ca08GaF9jb5r"
      }
    },
    {
      "cell_type": "code",
      "source": [
        "[ \"LEOPARD\", \"SERVAL\", \"JAGUAR\", \"TIGER\", \"CARACAL\", \"LION\" ]"
      ],
      "metadata": {
        "id": "Yp0QHNBKjc9I"
      },
      "execution_count": null,
      "outputs": []
    },
    {
      "cell_type": "markdown",
      "source": [
        "Vous pouvez également utiliser la méthode ***.filter()*** qui teste chaque élément du tableau. En créant une nouvelle collection avec chaque élément correspondant. "
      ],
      "metadata": {
        "id": "8A4NATWti9jA"
      }
    },
    {
      "cell_type": "code",
      "source": [
        "function lCat(cat) {\n",
        "  return cat.startsWith('L');\n",
        "}\n",
        "\n",
        "const cats = ['Leopard', 'Serval', 'Jaguar', 'Tiger', 'Caracal', 'Lion'];\n",
        "\n",
        "const filtered = cats.filter(lCat);\n",
        "\n",
        "console.log(filtered);\n",
        "// [ \"Leopard\", \"Lion\" ]"
      ],
      "metadata": {
        "id": "QYIuGmqpi9Us"
      },
      "execution_count": null,
      "outputs": []
    },
    {
      "cell_type": "markdown",
      "source": [
        "**La boucle while**"
      ],
      "metadata": {
        "id": "WvQSQmG_cxKi"
      }
    },
    {
      "cell_type": "markdown",
      "source": [
        "Le fonctionnement est très similaire à celui de la boucle for, sauf que la variable d'initialisation est définie avant la boucle et que l'expression finale est incluse dans la boucle après le code à exécuter, au lieu que ces deux éléments soient inclus dans les parenthèses. La condition est incluse à l'intérieur des parenthèses, qui sont précédées du mot-clé while plutôt que for."
      ],
      "metadata": {
        "id": "rhUfKpddqtRT"
      }
    },
    {
      "cell_type": "markdown",
      "source": [
        "Afin de nous faciliter la vie, nous pouvons également utiliser un flux de contrôle en boucle obtenu par le mot-clé \"***while***\". Voici un pseudo code pour l'illustrer :"
      ],
      "metadata": {
        "id": "wj7K5keDa3Ap"
      }
    },
    {
      "cell_type": "code",
      "source": [
        "initializer\n",
        "while (condition) {\n",
        "  // code to run\n",
        "\n",
        "  final-expression\n",
        "}"
      ],
      "metadata": {
        "id": "l41oO4I8a8cj"
      },
      "execution_count": null,
      "outputs": []
    },
    {
      "cell_type": "markdown",
      "source": [
        "Les trois mêmes éléments sont toujours présents, et ils sont toujours définis dans le même ordre que dans la boucle for. Cela s'explique par le fait qu'il faut définir un initialisateur avant de pouvoir vérifier si la condition est vraie ou non. L'expression finale est ensuite exécutée après l'exécution du code à l'intérieur de la boucle (une itération a été achevée), ce qui ne se produira que si la condition est toujours vraie."
      ],
      "metadata": {
        "id": "4FH1a1Xyq6VC"
      }
    },
    {
      "cell_type": "markdown",
      "source": [
        "Pendant que le est , le du corps de la boucle est exécuté. Par exemple, la boucle ci-dessous produit i alors que i < 3 :"
      ],
      "metadata": {
        "id": "xhouApVSbBnU"
      }
    },
    {
      "cell_type": "code",
      "source": [
        "let i = 0;\n",
        "while (i < 3) {\n",
        "// shows 0, then 1, then 2\n",
        "alert( i );\n",
        "i++; }"
      ],
      "metadata": {
        "id": "5Fp6ikXGbCT1"
      },
      "execution_count": null,
      "outputs": []
    },
    {
      "cell_type": "markdown",
      "source": [
        "\n",
        "En d'autres termes : Le flux de contrôle en boucle nous permet de revenir à un certain point du programme où nous étions auparavant et de le répéter avec notre état actuel du programme. Si nous combinons cela avec une liaison de cette variable, nous pouvons faire quelque chose comme ceci :\n"
      ],
      "metadata": {
        "id": "TDg_kEAlL-t-"
      }
    },
    {
      "cell_type": "code",
      "source": [
        "let number = 0;\n",
        " while (number <= 12) {\n",
        "   console.log(number);\n",
        "   number = number + 2;\n",
        " }\n",
        " // → 0\n",
        " // → 2\n",
        " // ...   etcetera\n"
      ],
      "metadata": {
        "colab": {
          "base_uri": "https://localhost:8080/"
        },
        "id": "7UIPmto3MLCz",
        "outputId": "0c5e8282-96d0-43ab-8fa4-4fc721acda52"
      },
      "execution_count": null,
      "outputs": [
        {
          "output_type": "stream",
          "name": "stdout",
          "text": [
            "0\n",
            "2\n",
            "4\n",
            "6\n",
            "8\n",
            "10\n",
            "12\n"
          ]
        },
        {
          "output_type": "execute_result",
          "data": {
            "text/plain": [
              "14"
            ]
          },
          "metadata": {},
          "execution_count": 157
        }
      ]
    },
    {
      "cell_type": "markdown",
      "source": [
        "Remarque : une boucle est appelée une itération. "
      ],
      "metadata": {
        "id": "__Z0EpOhbozI"
      }
    },
    {
      "cell_type": "markdown",
      "source": [
        "note : Toute expression ou variable peut être une condition de boucle, pas seulement les comparaisons : la condition est évaluée et convertie en booléen par ***while.*** \n",
        "\n",
        "Par example :\n"
      ],
      "metadata": {
        "id": "iJyCFFeyb580"
      }
    },
    {
      "cell_type": "code",
      "source": [
        "let i = 3;\n",
        "while (i) {\n",
        "// while (i != 0) is while (i) :\n",
        "// when i becomes 0, the condition becomes falsy, and the loop stops\n",
        "alert( i );\n",
        "i--; }"
      ],
      "metadata": {
        "id": "iZXqYbZacKXI"
      },
      "execution_count": null,
      "outputs": []
    },
    {
      "cell_type": "markdown",
      "source": [
        "**la boucle do**"
      ],
      "metadata": {
        "id": "1T_OBSZOc0rs"
      }
    },
    {
      "cell_type": "markdown",
      "source": [
        "La boucle do est utilisée pour déplacer la condition sous le corps de la boucle :"
      ],
      "metadata": {
        "id": "dlFYKRisc3W6"
      }
    },
    {
      "cell_type": "code",
      "source": [
        "initializer\n",
        "do {\n",
        "  // code to run\n",
        "\n",
        "  final-expression\n",
        "} while (condition)"
      ],
      "metadata": {
        "id": "xEiM-huBdovG"
      },
      "execution_count": null,
      "outputs": []
    },
    {
      "cell_type": "markdown",
      "source": [
        "Dans ce cas, l'initialisateur vient encore une fois en premier, avant le début de la boucle. Le mot-clé précède directement les accolades contenant le code à exécuter et l'expression finale.\n",
        "\n",
        "La principale différence entre une boucle ***do...while*** et une boucle ***while*** est que le code contenu dans une boucle ***do...while*** est toujours exécuté au moins une fois. C'est parce que la condition vient après le code à l'intérieur de la boucle. Nous exécutons donc toujours ce code, puis nous vérifions si nous devons le ré-exécuter. Dans les boucles ***while*** et ***for***, la vérification vient en premier, de sorte que le code peut ne jamais être exécuté.\n"
      ],
      "metadata": {
        "id": "UJjEHdpqrK5k"
      }
    },
    {
      "cell_type": "code",
      "source": [
        "let i = 0; do {\n",
        "alert( i );\n",
        "i++;\n",
        "} while (i < 3);"
      ],
      "metadata": {
        "id": "87gU9e-9dwP2"
      },
      "execution_count": null,
      "outputs": []
    },
    {
      "cell_type": "markdown",
      "source": [
        "Elle ne doit être utilisée que lorsque vous souhaitez que la boucle s'exécute au moins une fois. Sinon, restez fidèle à la syntaxe while. "
      ],
      "metadata": {
        "id": "6GUCmSMsdw3c"
      }
    },
    {
      "cell_type": "markdown",
      "source": [
        "**Briser la boucle**"
      ],
      "metadata": {
        "id": "8u6zNAL9nEP5"
      }
    },
    {
      "cell_type": "markdown",
      "source": [
        "Vous pouvez simplement sortir d'une boucle en utilisant l'instruction ***break*** dans votre fonction, comme le montre l'exemple suivant :"
      ],
      "metadata": {
        "id": "eNITz5YyPly5"
      }
    },
    {
      "cell_type": "code",
      "source": [
        "for (let current = 20; ; current = current + 1) {\n",
        "   if (current % 7 == 0) {\n",
        "     console.log(current);\n",
        "break; }\n",
        "}"
      ],
      "metadata": {
        "colab": {
          "base_uri": "https://localhost:8080/"
        },
        "id": "XgdQz0ptPw9j",
        "outputId": "779db757-7dc4-46d4-b48c-ce966f29db66"
      },
      "execution_count": null,
      "outputs": [
        {
          "output_type": "stream",
          "name": "stdout",
          "text": [
            "21\n"
          ]
        }
      ]
    },
    {
      "cell_type": "markdown",
      "source": [
        "il est possible de rompre les boucles si la condition doit être vérifiée au milieu, voici un exemple : "
      ],
      "metadata": {
        "id": "atS6c-J6nIUW"
      }
    },
    {
      "cell_type": "code",
      "source": [
        "let sum = 0;\n",
        "while (true) {\n",
        "let value = +prompt(\"Enter a number\", '');\n",
        "if (!value) break; // (*)\n",
        "sum += value;\n",
        "}\n",
        "alert( 'Sum: ' + sum );"
      ],
      "metadata": {
        "id": "MwRUxvWmpoSt"
      },
      "execution_count": null,
      "outputs": []
    },
    {
      "cell_type": "markdown",
      "source": [
        "Voici un exemple de boucle complexe qui utilise le break :"
      ],
      "metadata": {
        "id": "jZo0mkEOoDjr"
      }
    },
    {
      "cell_type": "code",
      "source": [
        "const contacts = ['Chris:2232322', 'Sarah:3453456', 'Bill:7654322', 'Mary:9998769', 'Dianne:9384975'];\n",
        "const para = document.querySelector('p');\n",
        "const input = document.querySelector('input');\n",
        "const btn = document.querySelector('button');\n",
        "\n",
        "btn.addEventListener('click', () => {\n",
        "  const searchName = input.value.toLowerCase();\n",
        "  input.value = '';\n",
        "  input.focus();\n",
        "  para.textContent = '';\n",
        "  for (const contact of contacts) {\n",
        "    const splitContact = contact.split(':');\n",
        "    if (splitContact[0].toLowerCase() === searchName) {\n",
        "      para.textContent = splitContact[0] + '\\'s number is ' + splitContact[1] + '.';\n",
        "      break;\n",
        "    }\n",
        "  }\n",
        "  if (para.textContent === '') {\n",
        "   para.textContent = 'Contact not found.';\n",
        " }\n",
        "});\n"
      ],
      "metadata": {
        "id": "FbtrVHaYoIZ6"
      },
      "execution_count": null,
      "outputs": []
    },
    {
      "cell_type": "markdown",
      "source": [
        "***Continue*** peut également être utilisé. Cette directive est une \"version allégée\" de . Elle n'arrête pas toute la boucle. Au lieu de cela, elle arrête l'itération en cours et force la boucle à en commencer une nouvelle (si la condition le permet)."
      ],
      "metadata": {
        "id": "nq2BizBwpp51"
      }
    },
    {
      "cell_type": "code",
      "source": [
        "for (let i = 0; i < 10; i++) {\n",
        "// if true, skip the remaining part of the body\n",
        "if (i % 2 == 0) continue;\n",
        "alert(i); // 1, then 3, 5, 7, 9 }"
      ],
      "metadata": {
        "id": "NvbgH-B2qJp7"
      },
      "execution_count": null,
      "outputs": []
    },
    {
      "cell_type": "markdown",
      "source": [
        "this loop is interesting, we have a classic for loop, with inside a condition that says : if i is divisible by n (i % n == 2) that skip the current interation. "
      ],
      "metadata": {
        "id": "5IrH0Ex-qWVv"
      }
    },
    {
      "cell_type": "markdown",
      "source": [
        "Voici un exemple complexe de continue :"
      ],
      "metadata": {
        "id": "ggATqzayp7hI"
      }
    },
    {
      "cell_type": "code",
      "source": [
        "const para = document.querySelector('p');\n",
        "const input = document.querySelector('input');\n",
        "const btn = document.querySelector('button');\n",
        "\n",
        "btn.addEventListener('click', () => {\n",
        "  para.textContent = 'Output: ';\n",
        "  const num = input.value;\n",
        "  input.value = '';\n",
        "  input.focus();\n",
        "  for (let i = 1; i <= num; i++) {\n",
        "    let sqRoot = Math.sqrt(i);\n",
        "    if (Math.floor(sqRoot) !== sqRoot) {\n",
        "      continue;\n",
        "    }\n",
        "    para.textContent += `${i} `;\n",
        "  }\n",
        "});"
      ],
      "metadata": {
        "id": "MdC6IqOip-_k"
      },
      "execution_count": null,
      "outputs": []
    },
    {
      "cell_type": "markdown",
      "source": [
        "Dans ce cas, l'entrée doit être un nombre (num). La boucle for est dotée d'un compteur commençant à 1 (puisque le 0 ne nous intéresse pas dans ce cas), d'une condition de sortie qui indique que la boucle s'arrêtera lorsque le compteur sera plus grand que le nombre entré, et d'un itérateur qui ajoute 1 au compteur à chaque fois.\n",
        "\n",
        "À l'intérieur de la boucle, nous trouvons la racine carrée de chaque nombre en utilisant Math.sqrt(i), puis nous vérifions si la racine carrée est un entier en testant si elle est identique à elle-même après avoir été arrondie à l'entier le plus proche (c'est ce que Math.floor() fait au nombre qui lui est passé).\n",
        "\n",
        "Si la racine carrée et la racine carrée arrondie ne sont pas égales l'une à l'autre (!==), cela signifie que la racine carrée n'est pas un entier et qu'elle ne nous intéresse pas. Dans ce cas, nous utilisons l'instruction continue pour passer à l'itération suivante de la boucle sans enregistrer le nombre nulle part.\n",
        "\n",
        "Si la racine carrée est un nombre entier, nous passons entièrement le bloc if, et l'instruction continue n'est pas exécutée ; à la place, nous concaténons la valeur actuelle de i plus un espace à la fin du contenu du paragraphe.\n"
      ],
      "metadata": {
        "id": "w6hC9ykuqGNS"
      }
    },
    {
      "cell_type": "markdown",
      "source": [
        "Il est également possible de sortir de plusieurs boucles imbriquées avec l'identificateur ***labelName***."
      ],
      "metadata": {
        "id": "qTRlmw2brcgx"
      }
    },
    {
      "cell_type": "code",
      "source": [
        "for (let i = 0; i < 3; i++) { for (let j = 0; j < 3; j++) {\n",
        "let input = prompt(`Value at coords (${i},${j})`, '');\n",
        "// what if I want to exit from here to Done (below)?\n",
        "} }\n",
        "alert('Done!')"
      ],
      "metadata": {
        "id": "pdNLLgqmrmzm"
      },
      "execution_count": null,
      "outputs": []
    },
    {
      "cell_type": "markdown",
      "source": [
        "L'identifiant de l'étiquette est utilisé avec un deux-points avant la boucle : "
      ],
      "metadata": {
        "id": "p2bQbhrurwDe"
      }
    },
    {
      "cell_type": "code",
      "source": [
        "labelName: for (...) { \n",
        "  ...\n",
        "}"
      ],
      "metadata": {
        "id": "3y31OuIEr2xs"
      },
      "execution_count": null,
      "outputs": []
    },
    {
      "cell_type": "code",
      "source": [
        "outer:\n",
        "      for (let i = 0; i < 3; i++) {\n",
        "      for (let j = 0; j < 3; j++) {\n",
        "      let input = prompt(`Value at coords (${i},${j})`, '');\n",
        "      // if an empty string or canceled, then break out of both loops if (!input) ; // (*)\n",
        "      break outer\n",
        "      // do something with the value...\n",
        "      } }\n",
        "      alert('Done!');"
      ],
      "metadata": {
        "id": "gMdEM08Kr6Wp"
      },
      "execution_count": null,
      "outputs": []
    },
    {
      "cell_type": "markdown",
      "source": [
        "note : un appel à un identifiant ne peut être utilisé qu'à partir de la boucle elle-même. "
      ],
      "metadata": {
        "id": "IsiE5XoLsPkO"
      }
    },
    {
      "cell_type": "code",
      "source": [
        "//output even numbers between 2 and 10\n",
        "for(i=2; i<=10;i++){\n",
        "   if(i % 2==!0) continue ;alert(i)\n",
        "}\n",
        "//replace for by while loop without chaning behavior\n",
        "for (let i = 0; i < 3; i++) { alert( `number ${i}!` );\n",
        "}\n",
        "\n",
        "let i = 0;\n",
        "while (i<3){alert( `number ${i}!` ); i++;}\n",
        "2"
      ],
      "metadata": {
        "id": "iGtCx_9hubSZ"
      },
      "execution_count": null,
      "outputs": []
    },
    {
      "cell_type": "markdown",
      "source": [
        "# Objets"
      ],
      "metadata": {
        "id": "nuX0ly1gUYrr"
      }
    },
    {
      "cell_type": "markdown",
      "source": [
        "**Objets : les bases **"
      ],
      "metadata": {
        "id": "xNiv3Ip3lmL6"
      }
    },
    {
      "cell_type": "markdown",
      "source": [
        "Donc en js il existe aussi des choses appelées \"***objects***\". \n",
        "\n",
        "---\n",
        "\n",
        "\n",
        "\n",
        "Le premier type d'objets que nous verrons est appelé \"***litteral objects***\". Ces derniers ne sont **pas des objets instanciés à partir de classes**. \n",
        "\n",
        "Les objets contiennent des données appelées aussi \"***properties***\".  Les propriétés des objets sont composées de deux éléments : une **clé** et une **valeur** (ou ***key and value***). \n",
        "\n",
        "En clair, un objet stocke des informations qui peuvent être de n'importe quel type de données. "
      ],
      "metadata": {
        "id": "2VxLNtXZM9-b"
      }
    },
    {
      "cell_type": "code",
      "source": [
        "const cat = {\n",
        "  \"name\": \"Whiskers\",// name is a key, whiskers is a value\n",
        "  \"legs\": 4,\n",
        "  \"tails\": 1,\n",
        "  \"enemies\": [\"Water\", \"Dogs\"]\n",
        "};"
      ],
      "metadata": {
        "id": "0v_7kdZyNN5K"
      },
      "execution_count": null,
      "outputs": []
    },
    {
      "cell_type": "markdown",
      "source": [
        "Pour déclarer un projet, vous devez lui attribuer un nom et lui attribuer deux crochets :"
      ],
      "metadata": {
        "id": "eZjaXyR8etVJ"
      }
    },
    {
      "cell_type": "code",
      "source": [
        "const myObject = {}"
      ],
      "metadata": {
        "id": "9spUCVR5e0ir"
      },
      "execution_count": null,
      "outputs": []
    },
    {
      "cell_type": "markdown",
      "source": [
        "**ACCÉDER AUX DONNÉES DE L'OBJET**"
      ],
      "metadata": {
        "id": "5Isfv7_Blpu2"
      }
    },
    {
      "cell_type": "markdown",
      "source": [
        "\n",
        "Il existe deux façons d'accéder aux données dans les objets : avec ***la notation . et la notation [....].***"
      ],
      "metadata": {
        "id": "cxV6pNfpLVtM"
      }
    },
    {
      "cell_type": "code",
      "source": [
        "const myObj = {\n",
        "  prop1: \"val1\",\n",
        "  prop2: \"val2\"\n",
        "};\n",
        "\n",
        "const prop1val = myObj.prop1; //output is val1\n",
        "const prop2val = myObj.prop2; //output is val2"
      ],
      "metadata": {
        "id": "otoYoN7AL80t"
      },
      "execution_count": null,
      "outputs": []
    },
    {
      "cell_type": "code",
      "source": [
        "// Setup\n",
        "const testObj = {\n",
        "  \"an entree\": \"hamburger\",\n",
        "  \"my side\": \"veggies\",\n",
        "  \"the drink\": \"water\"\n",
        "};\n",
        "\n",
        "// Only change code below this line\n",
        "const entreeValue = testObj[\"an entree\"] ;  //hamburger\n",
        "const drinkValue = testObj[\"the drink\"] ;   // hamburger"
      ],
      "metadata": {
        "id": "kFqnWKH9S5De"
      },
      "execution_count": null,
      "outputs": []
    },
    {
      "cell_type": "markdown",
      "source": [
        "La notation classique par points vous permet d'extraire directement des informations de votre objet. Elle est généralement appréciée pour sa concision et sa facilité d'utilisation. \n",
        "\n",
        "Avec les parenthèses, vous pouvez entrer à la place une variable qui contient une chaîne ou une autre variable. Ceci est utile si ce que vous faites passer change fréquemment. "
      ],
      "metadata": {
        "id": "9SsNasP8UxtX"
      }
    },
    {
      "cell_type": "code",
      "source": [
        "let myBook = {\n",
        "   title: \"L'Histoire de Tao\",\n",
        "   author: \"Will Alexander\",\n",
        "   numberOfPages: 250,\n",
        "   isAvailable: true\n",
        "};\n",
        "let propertyToAccess = \"title\";\n",
        "let bookTitle = myBook[propertyToAccess];  // \"L'Histoire de Tao\""
      ],
      "metadata": {
        "id": "0-mCIOs-efis"
      },
      "execution_count": null,
      "outputs": []
    },
    {
      "cell_type": "code",
      "source": [
        "// Setup\n",
        "const testObj = {\n",
        "  12: \"Namath\",\n",
        "  16: \"Montana\",\n",
        "  19: \"Unitas\"\n",
        "};\n",
        "\n",
        "// Only change code below this line\n",
        "\n",
        "\n",
        "const playerNumber = 16;\n",
        "\n",
        "const player = testObj[playerNumber];\n",
        "console.log(player) // Montana\n"
      ],
      "metadata": {
        "id": "So1hngj9agRp"
      },
      "execution_count": null,
      "outputs": []
    },
    {
      "cell_type": "markdown",
      "source": [
        "donc ici, la configuration initiale est un objet rempli de propriétés et de données. \n",
        "\n",
        "ma ***première var*** est la **clé que je recherche**, la** deuxième var** est une déclaration qui saisit l'objet ***testObj*** et dit : assigne à la var nouvellement déclarée les données contenues dans l'objet [1ère var]."
      ],
      "metadata": {
        "id": "1I6jV5j1fYTv"
      }
    },
    {
      "cell_type": "markdown",
      "source": [
        "Si vous avez des objets imbriqués dans des objets, voici comment y accéder : "
      ],
      "metadata": {
        "id": "2xkFACJok9iJ"
      }
    },
    {
      "cell_type": "code",
      "source": [
        "myObject.name.first //for . notation\n",
        "\n",
        "myObject[name][first] //for bracket notation"
      ],
      "metadata": {
        "id": "oBnKInE1lLJZ"
      },
      "execution_count": null,
      "outputs": []
    },
    {
      "cell_type": "markdown",
      "source": [
        "Les objets peuvent également contenir des fonctions. Elles sont connues sous le nom de méthodes d'objet et peuvent être utilisées de deux manières :"
      ],
      "metadata": {
        "id": "z7tA1ilth5HR"
      }
    },
    {
      "cell_type": "code",
      "source": [
        "introduceSelf: function () {\n",
        "        console.log(`Hi! I'm ${this.name[0]}.`);\n",
        "}\n",
        "\n",
        "      //OR\n",
        "\n",
        "introduceSelf() {\n",
        "    console.log(`Hi! I'm ${this.name[0]}.`);\n",
        "  }"
      ],
      "metadata": {
        "id": "3RD4A9oAiMBt"
      },
      "execution_count": null,
      "outputs": []
    },
    {
      "cell_type": "markdown",
      "source": [
        "Ils se comportent de la même manière que les propriétés des objets en termes d'accès.\n",
        "\n",
        "\n",
        "Par ailleurs, le mot-clé **This** est utilisé pour faire directement référence à l'objet. "
      ],
      "metadata": {
        "id": "APLEREb-lzZr"
      }
    },
    {
      "cell_type": "markdown",
      "source": [
        "**MODIFICATION DES DONNÉES DE L'OBJET**"
      ],
      "metadata": {
        "id": "KUTCTOfDlcqn"
      }
    },
    {
      "cell_type": "markdown",
      "source": [
        "Vous pouvez également mettre à jour votre objet my en utilisant la syntaxe suivante :"
      ],
      "metadata": {
        "id": "e0huOZnOl7_5"
      }
    },
    {
      "cell_type": "code",
      "source": [
        "person.age = 45;\n",
        "person['name']['last'] = 'Cratchit';"
      ],
      "metadata": {
        "id": "vEigRUT1mFTF"
      },
      "execution_count": null,
      "outputs": []
    },
    {
      "cell_type": "markdown",
      "source": [
        "vous pouvez aussi ajouter des membres complètement nouveaux dans votre objet : "
      ],
      "metadata": {
        "id": "VcGMKU1mmels"
      }
    },
    {
      "cell_type": "code",
      "source": [
        "person['eyes'] = 'hazel';\n",
        "\n",
        "person.farewell = function() {\n",
        "  console.log('Bye everybody!');\n",
        "}"
      ],
      "metadata": {
        "id": "_UG2oT04mkBr"
      },
      "execution_count": null,
      "outputs": []
    },
    {
      "cell_type": "markdown",
      "source": [
        "et comme"
      ],
      "metadata": {
        "id": "xRnVIMqDoTsw"
      }
    },
    {
      "cell_type": "code",
      "source": [
        "const myDataName = 'height';\n",
        "      const myDataValue = '1.75m';\n",
        "      person[myDataName] = myDataValue;\n"
      ],
      "metadata": {
        "id": "M83HiLHpoUib"
      },
      "execution_count": null,
      "outputs": []
    },
    {
      "cell_type": "markdown",
      "source": [
        "**Constructeurs**"
      ],
      "metadata": {
        "id": "1pcqf7VPr4CI"
      }
    },
    {
      "cell_type": "markdown",
      "source": [
        "Un constructeur est une fonction appelée en utilisant le mot clé \"***new***\". il va : \n",
        "- créer un nouvel objet\n",
        "- lier ceci au nouvel objet, afin que vous puissiez vous y référer dans votre code constructeur\n",
        "- exécuter le code dans le constructeur\n",
        "- retourner le nouvel objet.\n"
      ],
      "metadata": {
        "id": "ywVWBH-Yr7fw"
      }
    },
    {
      "cell_type": "markdown",
      "source": [
        "L'objectif principal des constructeurs est d'implémenter un code de création d'objet réutilisable."
      ],
      "metadata": {
        "id": "FtnDumTVJBWT"
      }
    },
    {
      "cell_type": "markdown",
      "source": [
        "Par convention, les constructeurs commencent par une lettre majuscule et sont nommés en fonction du type d'objet qu'ils créent. "
      ],
      "metadata": {
        "id": "KVoVwseRsdw8"
      }
    },
    {
      "cell_type": "code",
      "source": [
        "function Person(name) {\n",
        "  this.name = name;\n",
        "  this.introduceSelf = function() {\n",
        "    console.log(`Hi! I'm ${this.name}.`);\n",
        "  }\n",
        "}"
      ],
      "metadata": {
        "id": "O7dvJC1tsekQ"
      },
      "execution_count": null,
      "outputs": []
    },
    {
      "cell_type": "markdown",
      "source": [
        "pour appeler ***Person*** comme une fonction, nous utilisons new :"
      ],
      "metadata": {
        "id": "82s-EVIFs0rB"
      }
    },
    {
      "cell_type": "code",
      "source": [
        "const salva = new Person('Salva');\n",
        "salva.name;\n",
        "salva.introduceSelf();\n",
        "\n",
        "const frankie = new Person('Frankie');\n",
        "frankie.name;\n",
        "frankie.introduceSelf();"
      ],
      "metadata": {
        "id": "3_e0Hu65s3tC"
      },
      "execution_count": null,
      "outputs": []
    },
    {
      "cell_type": "markdown",
      "source": [
        "# Prototypes d'objets\n",
        "\n"
      ],
      "metadata": {
        "id": "FmUdYvGjZHi9"
      }
    },
    {
      "cell_type": "markdown",
      "source": [
        "Les prototypes sont le mécanisme par lequel les objets JavaScript héritent des caractéristiques les uns des autres.\n",
        "\n",
        "Dans la console, créez un objet et recherchez-le.  Vous verrez éventuellement une catégorie appelée ***__prototypes__***. "
      ],
      "metadata": {
        "id": "7IPs6pGLaXbb"
      }
    },
    {
      "cell_type": "code",
      "source": [
        "[[Prototype]]: Object\n",
        "constructor: ƒ Object()\n",
        "hasOwnProperty: ƒ hasOwnProperty()\n",
        "isPrototypeOf: ƒ isPrototypeOf()\n",
        "propertyIsEnumerable: ƒ propertyIsEnumerable()\n",
        "toLocaleString: ƒ toLocaleString()\n",
        "toString: ƒ toString()\n",
        "valueOf: ƒ valueOf()\n",
        "__defineGetter__: ƒ __defineGetter__()\n",
        "__defineSetter__: ƒ __defineSetter__()\n",
        "__lookupGetter__: ƒ __lookupGetter__()\n",
        "__lookupSetter__: ƒ __lookupSetter__()\n",
        "__proto__: (...)\n",
        "get __proto__: ƒ __proto__()\n",
        "set __proto__: ƒ __proto__()"
      ],
      "metadata": {
        "id": "VgxlaeeNeIA6"
      },
      "execution_count": null,
      "outputs": []
    },
    {
      "cell_type": "markdown",
      "source": [
        "\n",
        "\n",
        "Chaque objet en JavaScript possède une propriété intégrée, appelée ***prototype***. Le ***prototype*** est lui-même un objet, de sorte que le ***prototype*** aura son propre ***prototype***, créant ce que l'on appelle une chaîne de prototypes. La chaîne se termine lorsque nous atteignons un prototype qui a null pour son propre prototype."
      ],
      "metadata": {
        "id": "hDfZOdo3eMZM"
      }
    },
    {
      "cell_type": "markdown",
      "source": [
        "Il existe différentes façons de créer des prototypes d'objets : object.create et ocnstructors. "
      ],
      "metadata": {
        "id": "e8JNkCIYgBJJ"
      }
    },
    {
      "cell_type": "markdown",
      "source": [
        "**Nécéssite approfondissement**"
      ],
      "metadata": {
        "id": "GLFfS8iagnKQ"
      }
    },
    {
      "cell_type": "markdown",
      "source": [
        "# Programmation Orienté Objets\n"
      ],
      "metadata": {
        "id": "Rl4b_NI40T-v"
      }
    },
    {
      "cell_type": "markdown",
      "source": [
        "https://www.youtube.com/playlist?list=PL4cUxeGkcC9i5yvDkJgt60vNVWffpblB7 est un excellent outil pour comprendre les objets, les classes et l'OOP.\n"
      ],
      "metadata": {
        "id": "hzsz4CDD8P3W"
      }
    },
    {
      "cell_type": "markdown",
      "source": [
        "La programmation orientée objet (POO) est un paradigme de programmation fondamental pour de nombreux langages de programmation, dont Java et C++. Dans cette section, nous allons donner un aperçu des concepts de base de la POO. Nous décrirons trois concepts principaux : les classes et les instances, l'héritage et l'encapsulation. Pour l'instant, nous décrirons ces concepts sans faire référence à JavaScript en particulier, de sorte que tous les exemples sont donnés en pseudocode.\n",
        "\n"
      ],
      "metadata": {
        "id": "ge77lvung2Tc"
      }
    },
    {
      "cell_type": "markdown",
      "source": [
        "La POO consiste à résoudre des problèmes en les pensant d'abord de manière abstraite.\n",
        "\n",
        " Par exemple, si nous modélisons une école, nous pourrions avoir des objets représentant des professeurs. Tous les professeurs ont certaines propriétés en commun : ils ont tous un nom et une matière qu'ils enseignent. De plus, chaque professeur peut faire certaines choses : ils peuvent tous noter un devoir et se présenter à leurs étudiants au début de l'année, par exemple.\n",
        "\n",
        "Le professeur pourrait donc être une classe dans notre système. La définition de la classe énumère les données et les méthodes dont dispose chaque professeur.\n",
        "\n",
        "En pseudo-code, une classe Professeur pourrait être écrite comme suit :\n",
        "\n"
      ],
      "metadata": {
        "id": "0HZZJ_hRhAkz"
      }
    },
    {
      "cell_type": "code",
      "source": [
        "class Professor\n",
        "    properties\n",
        "        name\n",
        "        teaches\n",
        "    methods\n",
        "        grade(paper)\n",
        "        introduceSelf()"
      ],
      "metadata": {
        "id": "-C_5elmnhjiT"
      },
      "execution_count": null,
      "outputs": []
    },
    {
      "cell_type": "markdown",
      "source": [
        "Ceci définit une classe Professeur avec :\n",
        "\n",
        "- deux propriétés de données : ***name*** et ***teaches***\n",
        "- deux méthodes : ***grade()*** pour noter un devoir et ***introduceSelf()*** pour se présenter."
      ],
      "metadata": {
        "id": "jcgRwUa8hzZW"
      }
    },
    {
      "cell_type": "markdown",
      "source": [
        "Mais les classes ne font rien par défaut, pour créer des instances de classe vous devez utiliser un constructeur. Voici donc le constructeur de nos professeurs. "
      ],
      "metadata": {
        "id": "3nhhbsAfiQo0"
      }
    },
    {
      "cell_type": "code",
      "source": [
        "class Professor\n",
        "    properties\n",
        "        name\n",
        "        teaches\n",
        "    constructor\n",
        "        Professor(name, teaches)\n",
        "    methods\n",
        "        grade(paper)\n",
        "        introduceSelf()"
      ],
      "metadata": {
        "id": "Z_e22hvAiZ54"
      },
      "execution_count": null,
      "outputs": []
    },
    {
      "cell_type": "markdown",
      "source": [
        "Maintenant que nous avons un ***constructor ***(qui prend deux paramètres), nous pouvons créer quelques professeurs. Les langages de programmation utilisent souvent le mot clé ***new*** pour signaler qu'un constructeur est appelé."
      ],
      "metadata": {
        "id": "7dRS3Gv2ihkK"
      }
    },
    {
      "cell_type": "code",
      "source": [
        "walsh = new Professor('Walsh', 'Psychology')\n",
        "lillian = new Professor('Lillian', 'Poetry')\n",
        "\n",
        "walsh.teaches  // 'Psychology'\n",
        "walsh.introduceSelf()  // 'My name is Professor Walsh and I will be your Psychology professor.'\n",
        "\n",
        "lillian.teaches  // 'Poetry'\n",
        "lillian.introduceSelf()  // 'My name is Professor Lillian and I will be your Poetry professor.'"
      ],
      "metadata": {
        "id": "7FqgNxI8ik5d"
      },
      "execution_count": null,
      "outputs": []
    },
    {
      "cell_type": "markdown",
      "source": [
        "***Héritage***"
      ],
      "metadata": {
        "id": "IT9WDStuixcj"
      }
    },
    {
      "cell_type": "markdown",
      "source": [
        "Supposons que dans notre école, nous voulions également représenter les étudiants. Contrairement aux professeurs, les étudiants ne peuvent pas noter les copies, n'enseignent pas une matière particulière et appartiennent à une année particulière.\n",
        "\n",
        "Cependant, les étudiants ont un nom et peuvent aussi vouloir se présenter. Nous pourrions donc rédiger la définition d'une classe d'étudiants de la manière suivante :\n"
      ],
      "metadata": {
        "id": "ekYCJFm-i6uq"
      }
    },
    {
      "cell_type": "code",
      "source": [
        "class Student\n",
        "    properties\n",
        "        name\n",
        "        year\n",
        "    constructor\n",
        "        Student(name, year)\n",
        "    methods\n",
        "        introduceSelf()"
      ],
      "metadata": {
        "id": "JZbfHD01jEsH"
      },
      "execution_count": null,
      "outputs": []
    },
    {
      "cell_type": "markdown",
      "source": [
        "Il serait utile de pouvoir représenter le fait que les étudiants et les professeurs partagent certaines propriétés, ou plus précisément, le fait qu'à un certain niveau, ils sont le même type de chose. L'héritage nous permet de le faire.\n",
        "\n",
        "Nous commençons par observer que les étudiants et les professeurs sont tous deux des personnes, et que les personnes ont des noms et veulent se présenter. Nous pouvons modéliser cela en définissant une nouvelle classe Personne, dans laquelle nous définissons toutes les propriétés communes des personnes. Ensuite, ***professor*** et ***student*** peuvent tous deux dériver de ***Person***, en ajoutant leurs propriétés supplémentaires :\n"
      ],
      "metadata": {
        "id": "_fhE_faNjNzg"
      }
    },
    {
      "cell_type": "code",
      "source": [
        "class Person\n",
        "    properties\n",
        "        name\n",
        "    constructor\n",
        "        Person(name)\n",
        "    methods\n",
        "        introduceSelf()\n",
        "\n",
        "class Professor : extends Person\n",
        "    properties\n",
        "        teaches\n",
        "    constructor\n",
        "        Professor(name, teaches)\n",
        "    methods\n",
        "        grade(paper)\n",
        "        introduceSelf()\n",
        "\n",
        "class Student : extends Person\n",
        "    properties\n",
        "        year\n",
        "    constructor\n",
        "        Student(name, year)\n",
        "    methods\n",
        "        introduceSelf()"
      ],
      "metadata": {
        "id": "EtXXzBbXjOqL"
      },
      "execution_count": null,
      "outputs": []
    },
    {
      "cell_type": "markdown",
      "source": [
        "Dans ce cas, nous dirions que ***Person*** est la superclasse ou la classe mère de ***professor*** et ***student***. Inversement, ***Professor*** et ***Student*** sont des sous-classes ou des classes enfant de ***Person***.\n",
        "\n"
      ],
      "metadata": {
        "id": "M6a0DmOLjcoV"
      }
    },
    {
      "cell_type": "markdown",
      "source": [
        "Remarquez la méthode ***introducSelf()*** : Cette caractéristique - lorsqu'une méthode a le même nom mais une implémentation différente dans différentes classes - est appelée **polymorphisme**. Lorsqu'une méthode d'une sous-classe remplace l'implémentation de la super-classe, on dit que la sous-classe remplace la version de la super-classe.\n",
        "\n"
      ],
      "metadata": {
        "id": "XT3_2xs8jlKM"
      }
    },
    {
      "cell_type": "markdown",
      "source": [
        "**Encapsulation**"
      ],
      "metadata": {
        "id": "Cr2GVQ90jytN"
      }
    },
    {
      "cell_type": "markdown",
      "source": [
        "Les objets fournissent une interface à d'autres codes qui souhaitent les utiliser mais conservent leur propre état interne. L'état interne de l'objet est privé, ce qui signifie qu'il ne peut être consulté que par les méthodes propres à l'objet, et non par d'autres objets. Le fait de garder l'état interne d'un objet privé et, en général, de faire une distinction claire entre son interface publique et son état interne privé, est appelé encapsulation.\n",
        "\n",
        "Il s'agit d'une fonctionnalité utile car elle permet au programmeur de modifier l'implémentation interne d'un objet sans avoir à trouver et à mettre à jour tout le code qui l'utilise : elle crée une sorte de pare-feu entre cet objet et le reste du système.\n",
        "\n",
        "Par exemple, supposons que les étudiants soient autorisés à étudier le tir à l'arc s'ils sont en deuxième année ou plus. Nous pourrions implémenter cela en exposant simplement la propriété de l'année de l'étudiant, et un autre code pourrait l'examiner pour décider si l'étudiant peut suivre le cours :\n",
        "\n"
      ],
      "metadata": {
        "id": "okmkJJ2Gj1Nv"
      }
    },
    {
      "cell_type": "code",
      "source": [
        "if (student.year > 1) {\n",
        "    // allow the student into the class\n",
        "}"
      ],
      "metadata": {
        "id": "pUUpnMu1lHvs"
      },
      "execution_count": null,
      "outputs": []
    },
    {
      "cell_type": "markdown",
      "source": [
        "Le problème est que, si nous décidons de modifier les critères permettant aux élèves d'étudier le tir à l'arc - par exemple en exigeant également l'autorisation des parents ou du tuteur - nous devrons mettre à jour tous les endroits de notre système qui effectuent ce test. Il serait préférable d'avoir une méthode ***canStudyArchery()*** sur les objets ***students***, qui implémente la logique en un seul endroit :"
      ],
      "metadata": {
        "id": "pcb5Z7aIlIcM"
      }
    },
    {
      "cell_type": "code",
      "source": [
        "class Student : extends Person\n",
        "    properties\n",
        "       year\n",
        "    constructor\n",
        "        Student(name, year)\n",
        "    methods\n",
        "       introduceSelf()\n",
        "       canStudyArchery() { return this.year > 1 }"
      ],
      "metadata": {
        "id": "nmpjO3_IlNrq"
      },
      "execution_count": null,
      "outputs": []
    },
    {
      "cell_type": "code",
      "source": [
        "if (student.canStudyArchery()) {\n",
        "    // allow the student into the class\n",
        "}"
      ],
      "metadata": {
        "id": "JqyJS81xlTfi"
      },
      "execution_count": null,
      "outputs": []
    },
    {
      "cell_type": "markdown",
      "source": [
        "Ainsi, si nous voulons changer les règles concernant l'étude du tir à l'arc, il nous suffit de mettre à jour la classe ***Student***, et tout le code qui l'utilise continuera de fonctionner."
      ],
      "metadata": {
        "id": "lXtzAM7dlUOX"
      }
    },
    {
      "cell_type": "markdown",
      "source": [
        "Dans de nombreux langages de programmation orientée vers l'utilisateur, nous pouvons empêcher un autre code d'accéder à l'état interne d'un objet en marquant certaines propriétés comme privées. Cela générera une erreur si du code extérieur à l'objet tente d'y accéder :"
      ],
      "metadata": {
        "id": "8awxcYLMlcVa"
      }
    },
    {
      "cell_type": "code",
      "source": [
        "class Student : extends Person\n",
        "    properties\n",
        "       private year\n",
        "    constructor\n",
        "        Student(name, year)\n",
        "    methods\n",
        "       introduceSelf()\n",
        "       canStudyArchery() { return this.year > 1 }\n",
        "\n",
        "student = new Student('Weber', 1)\n",
        "student.year // error: 'year' is a private property of Student"
      ],
      "metadata": {
        "id": "ptIu1eMvleo2"
      },
      "execution_count": null,
      "outputs": []
    },
    {
      "cell_type": "code",
      "source": [
        "class Student extends Person {\n",
        "\n",
        "  #year;\n",
        "\n",
        "  constructor(name, year) {\n",
        "    super(name);\n",
        "    this.#year = year;\n",
        "  }\n",
        "\n",
        "\n",
        "  introduceSelf() {\n",
        "    console.log(`Hi! I'm ${this.name}, and I'm in year ${this.#year}.`);\n",
        "  }\n",
        "\n",
        "  canStudyArchery() {\n",
        "    return this.#year > 1;\n",
        "  }\n",
        "\n",
        "}"
      ],
      "metadata": {
        "id": "HkXwlmoEqa6p"
      },
      "execution_count": null,
      "outputs": []
    },
    {
      "cell_type": "markdown",
      "source": [
        "Dans cette déclaration de classe, ***#year*** est une propriété privée. Nous pouvons construire un objet Student, et il peut utiliser ***#year*** en interne, mais si du code extérieur à l'objet tente d'accéder à ***#year***, le navigateur lève une erreur :"
      ],
      "metadata": {
        "id": "CkB4XEY9qu7A"
      }
    },
    {
      "cell_type": "code",
      "source": [
        "const summers = new Student('Summers', 2);\n",
        "\n",
        "summers.introduceSelf(); // Hi! I'm Summers, and I'm in year 2.\n",
        "summers.canStudyArchery(); // true\n",
        "\n",
        "summers.#year; // SyntaxError"
      ],
      "metadata": {
        "id": "RDf9NUfbqvff"
      },
      "execution_count": null,
      "outputs": []
    },
    {
      "cell_type": "markdown",
      "source": [
        "**Les méthodes privées**"
      ],
      "metadata": {
        "id": "7BjxH8tEq2UV"
      }
    },
    {
      "cell_type": "markdown",
      "source": [
        "Vous pouvez avoir des méthodes privées ainsi que des propriétés de données privées. Tout comme les propriétés de données privées, leur nom commence par # et elles ne peuvent être appelées que par les propres méthodes de l'objet :"
      ],
      "metadata": {
        "id": "0-ncriDPq5XS"
      }
    },
    {
      "cell_type": "code",
      "source": [
        "class Example {\n",
        "  somePublicMethod() {\n",
        "    this.#somePrivateMethod();\n",
        "  }\n",
        "\n",
        "  #somePrivateMethod() {\n",
        "    console.log('You called me?');\n",
        "  }\n",
        "}\n",
        "\n",
        "const myExample = new Example();\n",
        "\n",
        "myExample.somePublicMethod(); // 'You called me?'\n",
        "\n",
        "myExample.#somePrivateMethod(); // SyntaxError"
      ],
      "metadata": {
        "id": "2NnLvZobq9tr"
      },
      "execution_count": null,
      "outputs": []
    },
    {
      "cell_type": "markdown",
      "source": [
        "# Opérateurs"
      ],
      "metadata": {
        "id": "du8Zt_dREp2l"
      }
    },
    {
      "cell_type": "markdown",
      "source": [
        "termes techniques de base des opérateurs : \n",
        "\n",
        "\n",
        "* Un opérande - est ce à quoi les opérateurs sont appliqués. Par exemple, dans la multiplication de 5 * 2, il y a deux opérandes : l'opérande de gauche est 5 et l'opérande de droite est 2 . Parfois, on les appelle \"arguments\" au lieu d'\"opérandes\".\n",
        "* Un opérateur est unaire s'il a un seul opérande. Par exemple, la négation unaire - inverse le signe d'un nombre :\n",
        "* Un opérateur est binaire s'il a deux opérandes. Le même moins existe aussi sous forme binaire :\n",
        "\n",
        "\n",
        "\n",
        "\n",
        "\n"
      ],
      "metadata": {
        "id": "h45_zrLYhGzd"
      }
    },
    {
      "cell_type": "markdown",
      "source": [
        "**Précédence des opérateurs** : Si une expression comporte plus d'un opérateur, l'ordre d'exécution est défini par leur précédence, ou, en d'autres termes, l'ordre de priorité par défaut des opérateurs.\n",
        "Depuis l'école, nous savons tous que la multiplication dans l'expression 1 + 2 * 2 doit être calculée avant l'addition. C'est exactement ce qu'on appelle la préséance. On dit que la multiplication a une priorité plus élevée que l'addition.\n",
        "Les parenthèses annulent toute préséance, donc si nous ne sommes pas satisfaits de l'ordre par défaut, nous pouvons les utiliser pour le modifier. Par exemple, écrivez (1 + 2) * 2 .\n"
      ],
      "metadata": {
        "id": "THY3Xjg-iwI_"
      }
    },
    {
      "cell_type": "markdown",
      "source": [
        "Il existe de nombreux types d'opérateurs, en voici quelques-uns classés par type : \n",
        "- Affectation \"=\" qui attribue une valeur à une variable (plus faible priorité).\n",
        "- Opérateurs binaires utilisés en arithmétique = +, -, *, / et %.\n",
        "- Concaténation de chaînes de caractères = + qui est utilisé pour relier des chaînes de caractères entre elles \n",
        "- Opérateurs de comparaison = (== : égal, != : non égal, === : strictement égal, !== : strictement inégal, < : inférieur à, > : supérieur à, <= : inférieur ou égal, >= : supérieur ou égal à)\n",
        "- logique = && : les deux affirmations sont vraies ; || l'une des deux est vraie\n",
        "- unaires, ils sont par exemple +x = il convertit une chaîne de caractères en chiffres, ce qui est utile dans beaucoup de cas (formulaires html) \n"
      ],
      "metadata": {
        "id": "DgletnwBEvhX"
      }
    },
    {
      "cell_type": "markdown",
      "source": [
        "**note** : l'incrémentation et la décrémentation peuvent être soit préfixes soit postfixes. Prefix incrémente/décrémente et sort la valeur mise à jour. Postfix fait la même chose mais sort la valeur originale. Ces fonctions seront souvent utilisées dans des boucles. "
      ],
      "metadata": {
        "id": "elkMwgaUkXOB"
      }
    },
    {
      "cell_type": "markdown",
      "source": [
        "Les opérateurs logiques sont très importants en javascript ! comme vu précédemment, trois types d'opérateurs logiques existent : \n",
        "- || OR \n",
        "- && AND \n",
        "- ! NOT "
      ],
      "metadata": {
        "id": "EYL1UTND_Ine"
      }
    },
    {
      "cell_type": "markdown",
      "source": [
        "|| \n",
        "\n",
        "Si l'un des arguments est vrai, il renvoie vrai, sinon il renvoie faux. La plupart du temps, elle est utilisée dans une déclaration conditionnelle pour tester si TOUTES les conditions sont vraies. "
      ],
      "metadata": {
        "id": "39fcyO7d_a9w"
      }
    },
    {
      "cell_type": "markdown",
      "source": [
        "Il peut également y avoir plusieurs déclarations OU : "
      ],
      "metadata": {
        "id": "E7Bo0UCPAD96"
      }
    },
    {
      "cell_type": "code",
      "source": [
        " result = value1 || value2 || value3;"
      ],
      "metadata": {
        "id": "JCgoUBsNAHEW"
      },
      "execution_count": null,
      "outputs": []
    },
    {
      "cell_type": "markdown",
      "source": [
        "L'opérateur OR || fait ce qui suit :\n",
        "- Il évalue les opérandes de gauche à droite.\n",
        "- Pour chaque opérande, le convertit en booléen. Si le résultat est vrai , s'arrête et renvoie la valeur initiale de cet opérande.\n",
        "- Si tous les opérandes ont été évalués (c'est-à-dire que tous étaient faux ), renvoie le dernier opérande."
      ],
      "metadata": {
        "id": "9laBeKyvAHhE"
      }
    },
    {
      "cell_type": "markdown",
      "source": [
        "&& AND \n",
        "\n",
        "Renvoie un résultat vrai si les deux conditions sont correctes, sinon il renvoie un résultat faux. "
      ],
      "metadata": {
        "id": "GHIsf5UtApBL"
      }
    },
    {
      "cell_type": "markdown",
      "source": [
        "avec des ***&& AND*** multiples :  **Évalue les opérandes de gauche à droite.**\n",
        "\n",
        "- Pour chaque opérande, il le convertit en booléen. Si le résultat est faux, s'arrête et renvoie la valeur originale de cet opérande.\n",
        "\n",
        "- Si tous les opérandes ont été évalués (c'est-à-dire si tous étaient vrais), renvoie le dernier opérande. En d'autres termes, ***AND*** renvoie la première valeur fausse ou la dernière valeur si aucune n'a été trouvée.\n",
        "\n",
        "Les règles ci-dessus sont similaires à celles de ***OR***. La différence est que ***AND*** renvoie la première valeur fausse alors que ***OR*** renvoie la première valeur vraie.\n",
        "\n",
        "\n"
      ],
      "metadata": {
        "id": "gWdNj7PDA00O"
      }
    },
    {
      "cell_type": "code",
      "source": [
        "// if the first operand is truthy, // AND returns the second operand: alert( 1 && 0 ); // 0\n",
        "alert( 1 && 5 ); // 5\n",
        "// if the first operand is falsy,\n",
        "// AND returns it. The second operand is ignored alert( null && 5 ); // null\n",
        "alert( 0 && \"no matter what\" ); // 0"
      ],
      "metadata": {
        "id": "jk_n5bM5A6-F"
      },
      "execution_count": null,
      "outputs": []
    },
    {
      "cell_type": "markdown",
      "source": [
        "***! NOT ***: L'opérateur accepte un seul argument et fait ce qui suit :\n",
        "\n",
        "1. Convertit l'opérande en type booléen : vrai/faux. \n",
        "\n",
        "2. Il renvoie la valeur inverse. "
      ],
      "metadata": {
        "id": "ZKfx4oGGBMMe"
      }
    },
    {
      "cell_type": "markdown",
      "source": [
        "Il est utilisé dans une déclaration conditionnelle lorsque quelque chose n'est pas vrai. "
      ],
      "metadata": {
        "id": "xfBi_ok5BbXQ"
      }
    },
    {
      "cell_type": "code",
      "source": [
        "//Basic exemples \n",
        "5 == 5 // true\n",
        "5 != 2 // True\n",
        "5 != 5 // False\n",
        "\n",
        "// strict equality comparison operator : === the main difference is that it does not inclue strings and equivalent to numbers ``\n",
        "5 === \"5\" //false\n",
        "5 == '5' //\n",
        "\n",
        "// The logical and operator (&&) returns true if and only if the operands to the left and right of it are true.\n",
        "\n",
        "5 > 2 && 3 == 3 // True because both of these are true\n",
        "5 > 2 && 3 == 1 //False\n",
        "\n",
        "//There also exist the logical or operator est noté de la manière suivante: ||\n",
        " //(Shift + alt +l) --> Il affiche true, si either des operands est true \n",
        "\n",
        " 5>2 || 3==2 // Because 5>2 is correct\n"
      ],
      "metadata": {
        "colab": {
          "base_uri": "https://localhost:8080/"
        },
        "id": "Lc0-K8pN26Jl",
        "outputId": "2798f123-b7fc-4c21-9b51-fcb3c6102379"
      },
      "execution_count": null,
      "outputs": [
        {
          "output_type": "execute_result",
          "data": {
            "text/plain": [
              "true"
            ]
          },
          "metadata": {},
          "execution_count": 48
        }
      ]
    },
    {
      "cell_type": "markdown",
      "source": [
        "# Opérateur ternaire\n"
      ],
      "metadata": {
        "id": "EDJeIxq8-mQg"
      }
    },
    {
      "cell_type": "markdown",
      "source": [
        "Il existe également un moyen de raccourcir les déclarations conditionnelles via l'opérateur ***\"?\"***, également appelé ternaire. "
      ],
      "metadata": {
        "id": "zm8NHhYV1_An"
      }
    },
    {
      "cell_type": "code",
      "source": [
        "//pseudo\n",
        "(condition) ? run this code: run this code instead"
      ],
      "metadata": {
        "id": "CxP2Mgm_-0Zt"
      },
      "execution_count": null,
      "outputs": []
    },
    {
      "cell_type": "code",
      "source": [
        " let accessAllowed = (age > 18) ? true : false;"
      ],
      "metadata": {
        "id": "g_Cvkpz32MW7"
      },
      "execution_count": null,
      "outputs": []
    },
    {
      "cell_type": "markdown",
      "source": [
        "La conditionnelle est évaluée et si elle est vraie, elle renvoie la première valeur, sinon elle renvoie la seconde. (Dans l'exemple ci-dessus, vous pouvez éviter d'utiliser l'opérateur point d'interrogation car la comparaison elle-même renvoie vrai/faux)."
      ],
      "metadata": {
        "id": "OU26hbtm2Pdl"
      }
    },
    {
      "cell_type": "markdown",
      "source": [
        "Vous pouvez également utiliser cet opérateur de la même manière qu'avec les instructions complexes ***else if*** : "
      ],
      "metadata": {
        "id": "eWJLBxHK2ryU"
      }
    },
    {
      "cell_type": "code",
      "source": [
        "let message = (age < 3) ? 'Hi, baby!' : (age < 18) ? 'Hello!' :\n",
        "(age < 100) ? 'Greetings!' :\n",
        "'What an unusual age!';\n",
        "alert( message );"
      ],
      "metadata": {
        "id": "9ykbhgKg2yc3"
      },
      "execution_count": null,
      "outputs": []
    },
    {
      "cell_type": "markdown",
      "source": [
        "Voici un exemple très intéressant d'un opérateur ternaire permettant de créer un mode sombre/clair pour une interface utilisateur. \n"
      ],
      "metadata": {
        "id": "CdLb4aqn-pd9"
      }
    },
    {
      "cell_type": "code",
      "source": [
        "//html \n",
        "<label for=\"theme\">Select theme: </label>\n",
        "<select id=\"theme\">\n",
        "  <option value=\"white\">White</option>\n",
        "  <option value=\"black\">Black</option>\n",
        "</select>\n",
        "\n",
        "<h1>This is my website</h1>\n",
        "\n",
        "//js\n",
        "const select = document.querySelector('select');\n",
        "const html = document.querySelector('html');\n",
        "document.body.style.padding = '10px';\n",
        "\n",
        "function update(bgColor, textColor) {\n",
        "  html.style.backgroundColor = bgColor;\n",
        "  html.style.color = textColor;\n",
        "}\n",
        "\n",
        "select.addEventListener('change', () => ( select.value === 'black' ) ? update('black','white') : update('white','black'));"
      ],
      "metadata": {
        "id": "25_PbSP8_Ki8"
      },
      "execution_count": null,
      "outputs": []
    },
    {
      "cell_type": "markdown",
      "source": [
        "# Conversion des types\n"
      ],
      "metadata": {
        "id": "x-Wf2Wkgby3S"
      }
    },
    {
      "cell_type": "markdown",
      "source": [
        "Vous pouvez avoir besoin de convertir certains types de données en d'autres formes. \n",
        "\n",
        "A ce titre vous utiliserez des conversions de type, voici les principales utilisations :\n",
        "\n",
        "***string(myVar)*** = transforme la valeur en une chaîne de caractères \n",
        "***number(myVar)*** = convertit la donnée en un nombre \n",
        "\n"
      ],
      "metadata": {
        "id": "bD053qSbb4NE"
      }
    },
    {
      "cell_type": "code",
      "source": [
        "string(myVar) = transform the value into a string \n",
        "number(myVar) = converts data into a number\n",
        "boolean(myVar) = converts empty to false and full to true a.e 0 = false & 1 = true (exception made with \"0\")\n",
        "\n",
        "quick numeric conversion rule:\n",
        "  alert( Number(\" 123 \") ); // 123\n",
        "  alert( Number(\"123z\") ); // NaN (error reading a number at \"z\") \n",
        "  alert( Number(true) );// 1\n",
        "  alert( Number(false) ); // 0"
      ],
      "metadata": {
        "id": "VGdEuw7bc8rF"
      },
      "execution_count": null,
      "outputs": []
    },
    {
      "cell_type": "markdown",
      "source": [
        "# types de valeurs\n",
        "\n"
      ],
      "metadata": {
        "id": "V6er40yTEqcV"
      }
    },
    {
      "cell_type": "markdown",
      "source": [
        "Il existe différents types de valeurs en javascript. Voici quatre d'entre eux (probablement les plus utilisés) :\n",
        "- numbers = 10, 4, 7 \n",
        "- chaînes de caractères = \"hello world \n",
        "- booléens = Vrai/Faux \n",
        "- undefined = indéfini/nul\n",
        "- null = vide \n",
        "\n",
        "Ces types sont également appelés types primitifs, par opposition aux objets, qui sont des structures de données plus complexes. \n",
        "\n",
        "\n",
        "\n"
      ],
      "metadata": {
        "id": "awokO2PcoHqW"
      }
    },
    {
      "cell_type": "markdown",
      "source": [
        "Certaines variables (principalement des chaînes de caractères) peuvent être entourées de guillemets. le seul auquel il faut prêter une attention particulière est le ***backtick = `***.\n",
        "qui sert le but très spécifique d'utiliser les variables prédéclarées dans les valeurs var en utilisant ${myVar}. voici un exemple. "
      ],
      "metadata": {
        "id": "dJ3SdQAvZud5"
      }
    },
    {
      "cell_type": "code",
      "source": [
        "let name = \"John\";\n",
        "// embed a variable\n",
        "alert( `Hello, !` ); // Hello, John!\n",
        " "
      ],
      "metadata": {
        "id": "FkNvkGjqZuvh"
      },
      "execution_count": null,
      "outputs": []
    },
    {
      "cell_type": "markdown",
      "source": [
        "# La sémantique du javascript "
      ],
      "metadata": {
        "id": "ysaqWYIP9CDz"
      }
    },
    {
      "cell_type": "markdown",
      "source": [
        "Un fragment de code qui produit une valeur est appelé une expression ! Une valeur littérale telle que \"Pourquoi\" est également une expression -> à bien des égards, les expressions sont juste des phrases qui sont intégrées les unes dans les autres pour produire une signification complexe.\n",
        "Si une expression correspond à un fragment de phrase, une déclaration JavaScript correspond à une phrase complète.\n",
        "\n",
        "Un programme est une liste de déclarations.\n",
        "\n",
        "Une fois qu'un énoncé est fait, il peut changer le monde extérieur, comme sortir une valeur, ou changer le monde intérieur -> ces changements sont appelés effets secondaires.\n",
        "\n",
        "En js, les données ou les informations sont stockées dans des*** bindings*** ou des ***variables***. \n"
      ],
      "metadata": {
        "id": "umZqJE4j9E-N"
      }
    },
    {
      "cell_type": "code",
      "source": [
        "// This is a variable\n",
        "let caught = 5 * 5;\n",
        "console.log(caught)"
      ],
      "metadata": {
        "colab": {
          "base_uri": "https://localhost:8080/"
        },
        "id": "WmNyWuSN_wSh",
        "outputId": "d27e61cc-afc4-4f99-a6a8-c36ad196d053"
      },
      "execution_count": null,
      "outputs": [
        {
          "output_type": "stream",
          "name": "stdout",
          "text": [
            "25\n"
          ]
        }
      ]
    },
    {
      "cell_type": "markdown",
      "source": [
        "Dans l'exemple ci-dessus, on peut voir l'utilisation d'un *mot-clé* : ***let***. Il est suivi de son nom, et du résultat de la valeur à sa droite ( 5 * 5). Le mot-clé ***let***, n'a pas d'expression permanente. En revanche, il est tout à fait modulable. \n",
        "\n",
        "note : il ne faut pas imaginer les variables comme des récipients, mais plutôt comme des mains auxquelles on s'accroche. \n",
        "\n",
        "\n",
        "Une variable vide retournera indéfinie. \n",
        "\n",
        "Note : une seule instruction let peut s'accrocher à plusieurs expressions. Elles doivent être séparées par une virgule (cf exemple ci-dessous). \n"
      ],
      "metadata": {
        "id": "hdIJ8Q2d_8Xi"
      }
    },
    {
      "cell_type": "code",
      "source": [
        " let one = 1, two = 2;\n",
        " console.log(one + two);\n",
        " // → 3"
      ],
      "metadata": {
        "colab": {
          "base_uri": "https://localhost:8080/"
        },
        "id": "mFhTln9TBXap",
        "outputId": "86df3459-0b8d-4c8e-a236-76f35cf6ef61"
      },
      "execution_count": null,
      "outputs": [
        {
          "output_type": "stream",
          "name": "stdout",
          "text": [
            "3\n"
          ]
        }
      ]
    },
    {
      "cell_type": "markdown",
      "source": [
        "Les mots-clés ***var*** et ***const*** peuvent également être utilisés pour déclarer des variables. "
      ],
      "metadata": {
        "id": "G0fIdNewCp7f"
      }
    },
    {
      "cell_type": "code",
      "source": [
        "var name = \"Ayda\";\n",
        "const greeting = \"Hello \"; console.log(greeting + name);\n",
        "// → Hello Ayda"
      ],
      "metadata": {
        "colab": {
          "base_uri": "https://localhost:8080/"
        },
        "id": "9UD7ymgOCvz4",
        "outputId": "65cd5b72-ef98-49e4-f63c-9b751cc2c1ab"
      },
      "execution_count": null,
      "outputs": [
        {
          "output_type": "stream",
          "name": "stdout",
          "text": [
            "Hello Ayda\n"
          ]
        }
      ]
    },
    {
      "cell_type": "markdown",
      "source": [
        "Var n'étant pas utilisé souvent, la principale différence entre let et const est que let peut aussi modifier son expression, alors que const ne peut pas changer son expression ! "
      ],
      "metadata": {
        "id": "vq0zUMQwC-bp"
      }
    },
    {
      "cell_type": "markdown",
      "source": [
        "Une collection de variables est appelée un environnement. Un programme possède un environnement rempli de variables. "
      ],
      "metadata": {
        "id": "SHm3omqyEwOT"
      }
    },
    {
      "cell_type": "markdown",
      "source": [
        "# Déclaration switch"
      ],
      "metadata": {
        "id": "li9QXmwNUPSU"
      }
    },
    {
      "cell_type": "markdown",
      "source": [
        "Parfois, les déclarations en chaîne ***if, else if,*** ***else*** peuvent être raccourcies grâce à la fonction switch. Ce qui suit est une bonne illustration (avec le pseudo avant) d'un ***switch*** qui est utilisé pour analyser plusieurs cas et renvoyer une valeur spécifique. \n",
        "Comme vous pouvez le voir, une valeur est passée par l'instruction ***switch***, puis le code correspondant est exécuté. "
      ],
      "metadata": {
        "id": "xxRVe_MmQjvk"
      }
    },
    {
      "cell_type": "code",
      "source": [
        "// In pseudo\n",
        "//switch (expression) {\n",
        "//   case choice1:\n",
        "//     run this code\n",
        "//     break;\n",
        "\n",
        "//   case choice2:\n",
        "//     run this code instead\n",
        "//     break;\n",
        "\n",
        "//   // include as many cases as you like\n",
        "\n",
        "//   default:\n",
        "//     actually, just run this code\n",
        "// }"
      ],
      "metadata": {
        "id": "wT9IgHWg9at4"
      },
      "execution_count": null,
      "outputs": []
    },
    {
      "cell_type": "markdown",
      "source": [
        "Ici, nous avons :\n",
        "\n",
        "Le mot clé switch, suivi d'une série de parenthèses.\n",
        "Une expression ou une valeur à l'intérieur des parenthèses.\n",
        "Le mot-clé case, suivi d'un choix que l'expression/valeur pourrait être, suivi de deux points.\n",
        "\n",
        "Du code à exécuter si le choix correspond à l'expression.\n",
        "Une instruction break, suivie d'un point-virgule. Si le choix précédent correspond à l'expression/valeur, le navigateur arrête d'exécuter le bloc de code ici, et passe à tout code qui apparaît sous l'instruction switch.\n",
        "Autant d'autres cas (puces 3-5) que vous le souhaitez.\n",
        "Le mot-clé default, suivi d'exactement le même modèle de code que l'un des cas (puces 3-5), sauf que default n'est pas suivi d'un choix et que vous n'avez pas besoin de l'instruction break car il n'y a rien à exécuter après dans le bloc. Il s'agit de l'option par défaut qui s'exécute si aucun des choix ne correspond.\n",
        "\n"
      ],
      "metadata": {
        "id": "WWOjhi_B9tO4"
      }
    },
    {
      "cell_type": "code",
      "source": [
        "let count = 0;\n",
        "\n",
        "function cc(card) {\n",
        "  // Only change code below this line\n",
        "  switch (card) {\n",
        "    case 2:\n",
        "    case 3:\n",
        "    case 4:\n",
        "    case 5:\n",
        "    case 6:\n",
        "      count++;\n",
        "      break;\n",
        "    case 10:\n",
        "    case \"J\":\n",
        "    case \"Q\":\n",
        "    case \"K\":\n",
        "    case \"A\":\n",
        "      count--;\n",
        "      break;\n",
        "  }\n",
        "  if (count > 0) {\n",
        "    return count + \" Bet\";\n",
        "  } else {\n",
        "    return count + \" Hold\";\n",
        "  }\n",
        "  // Only change code above this line\n",
        "}\n",
        "\n",
        "cc(2); cc(3); cc(7); cc('K'); cc('A');\n"
      ],
      "metadata": {
        "colab": {
          "base_uri": "https://localhost:8080/",
          "height": 137
        },
        "id": "E-PKNMsR6ktH",
        "outputId": "fe8deaf9-0df5-42df-d0cd-74c9b413eb41"
      },
      "execution_count": null,
      "outputs": [
        {
          "output_type": "error",
          "ename": "SyntaxError",
          "evalue": "ignored",
          "traceback": [
            "\u001b[0;36m  File \u001b[0;32m\"<ipython-input-1-ad9e5d585fb1>\"\u001b[0;36m, line \u001b[0;32m1\u001b[0m\n\u001b[0;31m    let count = 0;\u001b[0m\n\u001b[0m            ^\u001b[0m\n\u001b[0;31mSyntaxError\u001b[0m\u001b[0;31m:\u001b[0m invalid syntax\n"
          ]
        }
      ]
    },
    {
      "cell_type": "markdown",
      "source": [
        "Voici l'exemple de la météo tel que vu dans la section des déclarations conditionnelles :"
      ],
      "metadata": {
        "id": "WC-2ESKA-Q-8"
      }
    },
    {
      "cell_type": "code",
      "source": [
        "//html see in conditional section\n",
        "//JS\n",
        "const select = document.querySelector('select');\n",
        "const para = document.querySelector('p');\n",
        "\n",
        "select.addEventListener('change', setWeather);\n",
        "\n",
        "function setWeather() {\n",
        "  const choice = select.value;\n",
        "\n",
        "  switch (choice) {\n",
        "    case 'sunny':\n",
        "      para.textContent = 'It is nice and sunny outside today. Wear shorts! Go to the beach, or the park, and get an ice cream.';\n",
        "      break;\n",
        "    case 'rainy':\n",
        "      para.textContent = 'Rain is falling outside; take a rain coat and an umbrella, and don\\'t stay out for too long.';\n",
        "      break;\n",
        "    case 'snowing':\n",
        "      para.textContent = 'The snow is coming down — it is freezing! Best to stay in with a cup of hot chocolate, or go build a snowman.';\n",
        "      break;\n",
        "    case 'overcast':\n",
        "      para.textContent = 'It isn\\'t raining, but the sky is grey and gloomy; it could turn any minute, so take a rain coat just in case.';\n",
        "      break;\n",
        "    default:\n",
        "      para.textContent = '';\n",
        "  }\n",
        "}"
      ],
      "metadata": {
        "id": "NjqpqVGx-Qbc"
      },
      "execution_count": null,
      "outputs": []
    }
  ]
}